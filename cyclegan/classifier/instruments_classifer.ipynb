{
 "cells": [
  {
   "cell_type": "code",
   "execution_count": 1,
   "metadata": {},
   "outputs": [
    {
     "name": "stdout",
     "output_type": "stream",
     "text": [
      "Requirement already satisfied: librosa in /opt/conda/lib/python3.6/site-packages (0.7.1)\n",
      "Requirement already satisfied: scikit-learn!=0.19.0,>=0.14.0 in /opt/conda/lib/python3.6/site-packages (from librosa) (0.19.2)\n",
      "Requirement already satisfied: six>=1.3 in /opt/conda/lib/python3.6/site-packages (from librosa) (1.11.0)\n",
      "Requirement already satisfied: decorator>=3.0.0 in /opt/conda/lib/python3.6/site-packages (from librosa) (4.3.0)\n",
      "Requirement already satisfied: numba>=0.43.0 in /opt/conda/lib/python3.6/site-packages (from librosa) (0.46.0)\n",
      "Requirement already satisfied: audioread>=2.0.0 in /opt/conda/lib/python3.6/site-packages (from librosa) (2.1.8)\n",
      "Requirement already satisfied: resampy>=0.2.2 in /opt/conda/lib/python3.6/site-packages (from librosa) (0.2.2)\n",
      "Requirement already satisfied: numpy>=1.15.0 in /opt/conda/lib/python3.6/site-packages (from librosa) (1.15.2)\n",
      "Requirement already satisfied: scipy>=1.0.0 in /opt/conda/lib/python3.6/site-packages (from librosa) (1.1.0)\n",
      "Requirement already satisfied: joblib>=0.12 in /opt/conda/lib/python3.6/site-packages (from librosa) (0.14.0)\n",
      "Requirement already satisfied: soundfile>=0.9.0 in /opt/conda/lib/python3.6/site-packages (from librosa) (0.10.2)\n",
      "Requirement already satisfied: llvmlite>=0.30.0dev0 in /opt/conda/lib/python3.6/site-packages (from numba>=0.43.0->librosa) (0.30.0)\n",
      "Requirement already satisfied: cffi>=1.0 in /opt/conda/lib/python3.6/site-packages (from soundfile>=0.9.0->librosa) (1.11.5)\n",
      "Requirement already satisfied: pycparser in /opt/conda/lib/python3.6/site-packages (from cffi>=1.0->soundfile>=0.9.0->librosa) (2.18)\n"
     ]
    }
   ],
   "source": [
    "!pip install librosa"
   ]
  },
  {
   "cell_type": "code",
   "execution_count": 2,
   "metadata": {},
   "outputs": [
    {
     "name": "stderr",
     "output_type": "stream",
     "text": [
      "Using TensorFlow backend.\n"
     ]
    }
   ],
   "source": [
    "import warnings\n",
    "warnings.filterwarnings(\"ignore\", category = FutureWarning)\n",
    "\n",
    "import os\n",
    "import keras\n",
    "import h5py\n",
    "import librosa\n",
    "import itertools\n",
    "import numpy as np\n",
    "import matplotlib.pyplot as plt\n",
    "import pandas as pd\n",
    "from keras.callbacks import EarlyStopping, ModelCheckpoint\n",
    "from keras.models import load_model\n",
    "from collections import OrderedDict\n",
    "\n",
    "from keras.utils import to_categorical\n",
    "from sklearn.model_selection import train_test_split\n",
    "from sklearn.metrics import confusion_matrix\n",
    "\n",
    "from keras.models import Sequential\n",
    "from keras.layers import Dense\n",
    "from keras.layers import Activation\n",
    "from keras.layers import Flatten\n",
    "from keras.layers import Input\n",
    "from keras.layers import Dropout\n",
    "from keras.models import Model\n",
    "from keras.layers import Conv2D, MaxPooling2D, BatchNormalization, GlobalAveragePooling2D\n",
    "from keras.applications.vgg16 import VGG16"
   ]
  },
  {
   "cell_type": "markdown",
   "metadata": {},
   "source": [
    "# Read the data\n",
    "\n",
    "> Helper functions to assist the process to read songs, split then and return an array of spectrograms/melspectrograms"
   ]
  },
  {
   "cell_type": "code",
   "execution_count": 3,
   "metadata": {},
   "outputs": [],
   "source": [
    "\"\"\"\n",
    "@description: Method to split a song into multiple songs using overlapping windows\n",
    "\"\"\"\n",
    "def splitsongs(X, y, window = 0.1, overlap = 0.5):\n",
    "    # Empty lists to hold our results\n",
    "    temp_X = []\n",
    "    temp_y = []\n",
    "\n",
    "    # Get the input song array size\n",
    "    xshape = X.shape[0]\n",
    "    chunk = int(xshape*window)\n",
    "    offset = int(chunk*(1.-overlap))\n",
    "    \n",
    "    # Split the song and create new ones on windows\n",
    "    spsong = [X[i:i+chunk] for i in range(0, xshape - chunk + offset, offset)]\n",
    "    for s in spsong:\n",
    "        temp_X.append(s)\n",
    "        temp_y.append(y)\n",
    "\n",
    "    return np.array(temp_X), np.array(temp_y)"
   ]
  },
  {
   "cell_type": "code",
   "execution_count": 4,
   "metadata": {},
   "outputs": [],
   "source": [
    "\"\"\"\n",
    "@description: Method to convert a list of songs to a np array of melspectrograms\n",
    "\"\"\"\n",
    "def to_melspectrogram(songs, n_fft = 1024, hop_length = 512):\n",
    "    # Transformation function\n",
    "    melspec = lambda x: librosa.feature.melspectrogram(x, n_fft = n_fft,\n",
    "        hop_length = hop_length)[:,:,np.newaxis]\n",
    "\n",
    "    # map transformation of input songs to melspectrogram using log-scale\n",
    "    tsongs = map(melspec, songs)\n",
    "    return np.array(list(tsongs))"
   ]
  },
  {
   "cell_type": "code",
   "execution_count": 5,
   "metadata": {},
   "outputs": [],
   "source": [
    "def read_data(src_dir, genres, song_samples, spec_format, debug = True):    \n",
    "    # Empty array of dicts with the processed features from all files\n",
    "    arr_specs = []\n",
    "    arr_genres = []\n",
    "\n",
    "    # Read files from the folders\n",
    "    for x,_ in genres.items():\n",
    "        folder = src_dir + x\n",
    "        \n",
    "        for root, subdirs, files in os.walk(folder):\n",
    "            for file in files:\n",
    "                # Read the audio file\n",
    "                file_name = folder + \"/\" + file\n",
    "                print(file_name)\n",
    "                signal, sr = librosa.load(file_name)\n",
    "                signal = signal[:song_samples]\n",
    "                \n",
    "                # Debug process\n",
    "                if debug:\n",
    "                    print(\"Reading file: {}\".format(file_name))\n",
    "                \n",
    "                # Convert to dataset of spectograms/melspectograms\n",
    "                signals, y = splitsongs(signal, genres[x])\n",
    "                \n",
    "                # Convert to \"spec\" representation\n",
    "                specs = spec_format(signals)\n",
    "                \n",
    "                # Save files\n",
    "                arr_genres.extend(y)\n",
    "                arr_specs.extend(specs)\n",
    "                \n",
    "                \n",
    "    return np.array(arr_specs), np.array(arr_genres)"
   ]
  },
  {
   "cell_type": "code",
   "execution_count": 6,
   "metadata": {},
   "outputs": [],
   "source": [
    "# Parameters\n",
    "gtzan_dir = './instruments_classifier_training/'\n",
    "song_samples = 110000\n",
    "genres = {'piano': 0, 'guitar': 1 }"
   ]
  },
  {
   "cell_type": "code",
   "execution_count": 7,
   "metadata": {},
   "outputs": [],
   "source": [
    "# # Read the data\n",
    "# X, y = read_data(gtzan_dir, genres, song_samples, to_melspectrogram, debug=False)\n",
    "# np.save('x_instruments_classifier_training.npy', X)\n",
    "# np.save('y_instruments_classifier_training.npy', y)"
   ]
  },
  {
   "cell_type": "code",
   "execution_count": 8,
   "metadata": {},
   "outputs": [
    {
     "ename": "FileNotFoundError",
     "evalue": "[Errno 2] No such file or directory: 'x_instruments_classifier_training.npy'",
     "output_type": "error",
     "traceback": [
      "\u001b[0;31m---------------------------------------------------------------------------\u001b[0m",
      "\u001b[0;31mFileNotFoundError\u001b[0m                         Traceback (most recent call last)",
      "\u001b[0;32m<ipython-input-8-f0542e61efb4>\u001b[0m in \u001b[0;36m<module>\u001b[0;34m()\u001b[0m\n\u001b[0;32m----> 1\u001b[0;31m \u001b[0mX\u001b[0m \u001b[0;34m=\u001b[0m \u001b[0mnp\u001b[0m\u001b[0;34m.\u001b[0m\u001b[0mload\u001b[0m\u001b[0;34m(\u001b[0m\u001b[0;34m'x_instruments_classifier_training.npy'\u001b[0m\u001b[0;34m)\u001b[0m\u001b[0;34m\u001b[0m\u001b[0m\n\u001b[0m\u001b[1;32m      2\u001b[0m \u001b[0my\u001b[0m \u001b[0;34m=\u001b[0m \u001b[0mnp\u001b[0m\u001b[0;34m.\u001b[0m\u001b[0mload\u001b[0m\u001b[0;34m(\u001b[0m\u001b[0;34m'y_instruments_classifier_training.npy'\u001b[0m\u001b[0;34m)\u001b[0m\u001b[0;34m\u001b[0m\u001b[0m\n",
      "\u001b[0;32m/opt/conda/lib/python3.6/site-packages/numpy/lib/npyio.py\u001b[0m in \u001b[0;36mload\u001b[0;34m(file, mmap_mode, allow_pickle, fix_imports, encoding)\u001b[0m\n\u001b[1;32m    382\u001b[0m     \u001b[0mown_fid\u001b[0m \u001b[0;34m=\u001b[0m \u001b[0;32mFalse\u001b[0m\u001b[0;34m\u001b[0m\u001b[0m\n\u001b[1;32m    383\u001b[0m     \u001b[0;32mif\u001b[0m \u001b[0misinstance\u001b[0m\u001b[0;34m(\u001b[0m\u001b[0mfile\u001b[0m\u001b[0;34m,\u001b[0m \u001b[0mbasestring\u001b[0m\u001b[0;34m)\u001b[0m\u001b[0;34m:\u001b[0m\u001b[0;34m\u001b[0m\u001b[0m\n\u001b[0;32m--> 384\u001b[0;31m         \u001b[0mfid\u001b[0m \u001b[0;34m=\u001b[0m \u001b[0mopen\u001b[0m\u001b[0;34m(\u001b[0m\u001b[0mfile\u001b[0m\u001b[0;34m,\u001b[0m \u001b[0;34m\"rb\"\u001b[0m\u001b[0;34m)\u001b[0m\u001b[0;34m\u001b[0m\u001b[0m\n\u001b[0m\u001b[1;32m    385\u001b[0m         \u001b[0mown_fid\u001b[0m \u001b[0;34m=\u001b[0m \u001b[0;32mTrue\u001b[0m\u001b[0;34m\u001b[0m\u001b[0m\n\u001b[1;32m    386\u001b[0m     \u001b[0;32melif\u001b[0m \u001b[0mis_pathlib_path\u001b[0m\u001b[0;34m(\u001b[0m\u001b[0mfile\u001b[0m\u001b[0;34m)\u001b[0m\u001b[0;34m:\u001b[0m\u001b[0;34m\u001b[0m\u001b[0m\n",
      "\u001b[0;31mFileNotFoundError\u001b[0m: [Errno 2] No such file or directory: 'x_instruments_classifier_training.npy'"
     ]
    }
   ],
   "source": [
    "X = np.load('x_instruments_classifier_training.npy')\n",
    "y = np.load('y_instruments_classifier_training.npy')"
   ]
  },
  {
   "cell_type": "code",
   "execution_count": 9,
   "metadata": {},
   "outputs": [],
   "source": [
    "# One hot encoding of the labels\n",
    "y = to_categorical(y)"
   ]
  },
  {
   "cell_type": "markdown",
   "metadata": {},
   "source": [
    "# Dataset Split"
   ]
  },
  {
   "cell_type": "code",
   "execution_count": 10,
   "metadata": {},
   "outputs": [
    {
     "data": {
      "text/plain": [
       "(136078, 128, 22, 3)"
      ]
     },
     "execution_count": 10,
     "metadata": {},
     "output_type": "execute_result"
    }
   ],
   "source": [
    "X_stack = np.squeeze(np.stack((X,) * 3, -1))\n",
    "X_stack.shape"
   ]
  },
  {
   "cell_type": "code",
   "execution_count": 11,
   "metadata": {},
   "outputs": [],
   "source": [
    "X_train, X_test, y_train, y_test = train_test_split(X_stack, y, test_size=0.2, random_state=42, stratify = y)"
   ]
  },
  {
   "cell_type": "code",
   "execution_count": 12,
   "metadata": {},
   "outputs": [
    {
     "data": {
      "image/png": "[encoded data removed]",
      "text/plain": [
       "<Figure size 432x288 with 1 Axes>"
      ]
     },
     "metadata": {
      "needs_background": "light"
     },
     "output_type": "display_data"
    }
   ],
   "source": [
    "# Histogram for train and test \n",
    "values, count = np.unique(np.argmax(y_train, axis=1), return_counts=True)\n",
    "plt.bar(values, count)\n",
    "\n",
    "values, count = np.unique(np.argmax(y_test, axis=1), return_counts=True)\n",
    "plt.bar(values, count)\n",
    "plt.show()"
   ]
  },
  {
   "cell_type": "markdown",
   "metadata": {},
   "source": [
    "# Training"
   ]
  },
  {
   "cell_type": "code",
   "execution_count": 13,
   "metadata": {},
   "outputs": [
    {
     "name": "stdout",
     "output_type": "stream",
     "text": [
      "_________________________________________________________________\n",
      "Layer (type)                 Output Shape              Param #   \n",
      "=================================================================\n",
      "conv2d_1 (Conv2D)            (None, 128, 22, 64)       1792      \n",
      "_________________________________________________________________\n",
      "activation_1 (Activation)    (None, 128, 22, 64)       0         \n",
      "_________________________________________________________________\n",
      "max_pooling2d_1 (MaxPooling2 (None, 64, 11, 64)        0         \n",
      "_________________________________________________________________\n",
      "dropout_1 (Dropout)          (None, 64, 11, 64)        0         \n",
      "_________________________________________________________________\n",
      "conv2d_2 (Conv2D)            (None, 62, 9, 128)        73856     \n",
      "_________________________________________________________________\n",
      "activation_2 (Activation)    (None, 62, 9, 128)        0         \n",
      "_________________________________________________________________\n",
      "max_pooling2d_2 (MaxPooling2 (None, 31, 4, 128)        0         \n",
      "_________________________________________________________________\n",
      "dropout_2 (Dropout)          (None, 31, 4, 128)        0         \n",
      "_________________________________________________________________\n",
      "conv2d_3 (Conv2D)            (None, 29, 2, 256)        295168    \n",
      "_________________________________________________________________\n",
      "activation_3 (Activation)    (None, 29, 2, 256)        0         \n",
      "_________________________________________________________________\n",
      "max_pooling2d_3 (MaxPooling2 (None, 14, 1, 256)        0         \n",
      "_________________________________________________________________\n",
      "dropout_3 (Dropout)          (None, 14, 1, 256)        0         \n",
      "_________________________________________________________________\n",
      "flatten_1 (Flatten)          (None, 3584)              0         \n",
      "_________________________________________________________________\n",
      "dense_1 (Dense)              (None, 128)               458880    \n",
      "_________________________________________________________________\n",
      "activation_4 (Activation)    (None, 128)               0         \n",
      "_________________________________________________________________\n",
      "dropout_4 (Dropout)          (None, 128)               0         \n",
      "_________________________________________________________________\n",
      "dense_2 (Dense)              (None, 2)                 258       \n",
      "_________________________________________________________________\n",
      "activation_5 (Activation)    (None, 2)                 0         \n",
      "=================================================================\n",
      "Total params: 829,954\n",
      "Trainable params: 829,954\n",
      "Non-trainable params: 0\n",
      "_________________________________________________________________\n"
     ]
    }
   ],
   "source": [
    "# Model Definition\n",
    "\n",
    "model_name = 'CNN'\n",
    "input_shape = X_train[0].shape\n",
    "\n",
    "num_genres = 2\n",
    "\n",
    "model = Sequential()\n",
    "model.add(Conv2D(64, (3, 3), padding='same',input_shape=input_shape))\n",
    "#model.add(LeakyReLU(alpha=0.1))\n",
    "model.add(Activation('relu'))\n",
    "model.add(MaxPooling2D(pool_size=(2, 2)))\n",
    "model.add(Dropout(0.20))\n",
    "\n",
    "model.add(Conv2D(128, (3, 3)))\n",
    "#model.add(LeakyReLU(alpha=0.1))\n",
    "model.add(Activation('relu'))\n",
    "model.add(MaxPooling2D(pool_size=(2, 2)))\n",
    "model.add(Dropout(0.20))\n",
    "\n",
    "model.add(Conv2D(256, (3, 3)))\n",
    "#model.add(LeakyReLU(alpha=0.1))\n",
    "model.add(Activation('relu'))\n",
    "model.add(MaxPooling2D(pool_size=(2, 2)))\n",
    "model.add(Dropout(0.20))\n",
    "\n",
    "# model.add(Conv2D(512, (3, 3)))\n",
    "# #model.add(LeakyReLU(alpha=0.1))\n",
    "# model.add(Activation('relu'))\n",
    "# model.add(MaxPooling2D(pool_size=(2, 2)))\n",
    "# model.add(Dropout(0.20))\n",
    "\n",
    "model.add(Flatten())\n",
    "\n",
    "model.add(Dense(128))\n",
    "model.add(Activation('relu'))\n",
    "#model.add(LeakyReLU(alpha=0.1))\n",
    "model.add(Dropout(0.5))\n",
    "model.add(Dense(num_genres))\n",
    "model.add(Activation('softmax'))\n",
    "\n",
    "model.summary()"
   ]
  },
  {
   "cell_type": "code",
   "execution_count": 14,
   "metadata": {},
   "outputs": [],
   "source": [
    "model_path = './models/CNN.h5'\n",
    "\n",
    "checkpoint = ModelCheckpoint(model_path, monitor='val_loss', save_best_only=True, verbose=1)\n",
    "earlystop = EarlyStopping(monitor='val_loss', patience=5, verbose=1)\n",
    "\n",
    "batch_size = 128\n",
    "epochs = 50"
   ]
  },
  {
   "cell_type": "code",
   "execution_count": 15,
   "metadata": {},
   "outputs": [
    {
     "name": "stdout",
     "output_type": "stream",
     "text": [
      "Train on 108862 samples, validate on 27216 samples\n",
      "Epoch 1/50\n",
      "108862/108862 [==============================] - 21s 194us/step - loss: 0.4032 - acc: 0.8294 - val_loss: 0.2683 - val_acc: 0.8827\n",
      "\n",
      "Epoch 00001: val_loss improved from inf to 0.26827, saving model to ./CNN.h5\n",
      "Epoch 2/50\n",
      "108862/108862 [==============================] - 18s 164us/step - loss: 0.2136 - acc: 0.9171 - val_loss: 0.1530 - val_acc: 0.9397\n",
      "\n",
      "Epoch 00002: val_loss improved from 0.26827 to 0.15302, saving model to ./CNN.h5\n",
      "Epoch 3/50\n",
      "108862/108862 [==============================] - 19s 171us/step - loss: 0.1419 - acc: 0.9471 - val_loss: 0.1083 - val_acc: 0.9582\n",
      "\n",
      "Epoch 00003: val_loss improved from 0.15302 to 0.10826, saving model to ./CNN.h5\n",
      "Epoch 4/50\n",
      "108862/108862 [==============================] - 18s 169us/step - loss: 0.1081 - acc: 0.9608 - val_loss: 0.0840 - val_acc: 0.9688\n",
      "\n",
      "Epoch 00004: val_loss improved from 0.10826 to 0.08396, saving model to ./CNN.h5\n",
      "Epoch 5/50\n",
      "108862/108862 [==============================] - 18s 169us/step - loss: 0.0872 - acc: 0.9685 - val_loss: 0.0793 - val_acc: 0.9711\n",
      "\n",
      "Epoch 00005: val_loss improved from 0.08396 to 0.07929, saving model to ./CNN.h5\n",
      "Epoch 6/50\n",
      "108862/108862 [==============================] - 18s 167us/step - loss: 0.0727 - acc: 0.9737 - val_loss: 0.0544 - val_acc: 0.9811\n",
      "\n",
      "Epoch 00006: val_loss improved from 0.07929 to 0.05442, saving model to ./CNN.h5\n",
      "Epoch 7/50\n",
      "108862/108862 [==============================] - 18s 168us/step - loss: 0.0641 - acc: 0.9771 - val_loss: 0.0468 - val_acc: 0.9840\n",
      "\n",
      "Epoch 00007: val_loss improved from 0.05442 to 0.04681, saving model to ./CNN.h5\n",
      "Epoch 8/50\n",
      "108862/108862 [==============================] - 18s 169us/step - loss: 0.0554 - acc: 0.9796 - val_loss: 0.0451 - val_acc: 0.9835\n",
      "\n",
      "Epoch 00008: val_loss improved from 0.04681 to 0.04510, saving model to ./CNN.h5\n",
      "Epoch 9/50\n",
      "108862/108862 [==============================] - 18s 169us/step - loss: 0.0487 - acc: 0.9821 - val_loss: 0.0428 - val_acc: 0.9849\n",
      "\n",
      "Epoch 00009: val_loss improved from 0.04510 to 0.04275, saving model to ./CNN.h5\n",
      "Epoch 10/50\n",
      "108862/108862 [==============================] - 18s 170us/step - loss: 0.0448 - acc: 0.9842 - val_loss: 0.0316 - val_acc: 0.9889\n",
      "\n",
      "Epoch 00010: val_loss improved from 0.04275 to 0.03159, saving model to ./CNN.h5\n",
      "Epoch 11/50\n",
      "108862/108862 [==============================] - 19s 171us/step - loss: 0.0412 - acc: 0.9849 - val_loss: 0.0300 - val_acc: 0.9890\n",
      "\n",
      "Epoch 00011: val_loss improved from 0.03159 to 0.02997, saving model to ./CNN.h5\n",
      "Epoch 12/50\n",
      "108862/108862 [==============================] - 18s 170us/step - loss: 0.0361 - acc: 0.9872 - val_loss: 0.0306 - val_acc: 0.9889\n",
      "\n",
      "Epoch 00012: val_loss did not improve from 0.02997\n",
      "Epoch 13/50\n",
      "108862/108862 [==============================] - 18s 170us/step - loss: 0.0343 - acc: 0.9876 - val_loss: 0.0320 - val_acc: 0.9886\n",
      "\n",
      "Epoch 00013: val_loss did not improve from 0.02997\n",
      "Epoch 14/50\n",
      "108862/108862 [==============================] - 19s 170us/step - loss: 0.0312 - acc: 0.9889 - val_loss: 0.0230 - val_acc: 0.9921\n",
      "\n",
      "Epoch 00014: val_loss improved from 0.02997 to 0.02303, saving model to ./CNN.h5\n",
      "Epoch 15/50\n",
      "108862/108862 [==============================] - 19s 170us/step - loss: 0.0288 - acc: 0.9900 - val_loss: 0.0223 - val_acc: 0.9920\n",
      "\n",
      "Epoch 00015: val_loss improved from 0.02303 to 0.02231, saving model to ./CNN.h5\n",
      "Epoch 16/50\n",
      "108862/108862 [==============================] - 19s 170us/step - loss: 0.0273 - acc: 0.9904 - val_loss: 0.0304 - val_acc: 0.9899\n",
      "\n",
      "Epoch 00016: val_loss did not improve from 0.02231\n",
      "Epoch 17/50\n",
      "108862/108862 [==============================] - 18s 170us/step - loss: 0.0254 - acc: 0.9911 - val_loss: 0.0203 - val_acc: 0.9923\n",
      "\n",
      "Epoch 00017: val_loss improved from 0.02231 to 0.02032, saving model to ./CNN.h5\n",
      "Epoch 18/50\n",
      "108862/108862 [==============================] - 19s 170us/step - loss: 0.0227 - acc: 0.9919 - val_loss: 0.0211 - val_acc: 0.9920\n",
      "\n",
      "Epoch 00018: val_loss did not improve from 0.02032\n",
      "Epoch 19/50\n",
      "108862/108862 [==============================] - 19s 170us/step - loss: 0.0226 - acc: 0.9920 - val_loss: 0.0210 - val_acc: 0.9928\n",
      "\n",
      "Epoch 00019: val_loss did not improve from 0.02032\n",
      "Epoch 20/50\n",
      "108862/108862 [==============================] - 19s 170us/step - loss: 0.0205 - acc: 0.9930 - val_loss: 0.0225 - val_acc: 0.9926\n",
      "\n",
      "Epoch 00020: val_loss did not improve from 0.02032\n",
      "Epoch 21/50\n",
      "108862/108862 [==============================] - 19s 171us/step - loss: 0.0198 - acc: 0.9930 - val_loss: 0.0192 - val_acc: 0.9933\n",
      "\n",
      "Epoch 00021: val_loss improved from 0.02032 to 0.01920, saving model to ./CNN.h5\n",
      "Epoch 22/50\n",
      "108862/108862 [==============================] - 19s 170us/step - loss: 0.0195 - acc: 0.9931 - val_loss: 0.0174 - val_acc: 0.9941\n",
      "\n",
      "Epoch 00022: val_loss improved from 0.01920 to 0.01737, saving model to ./CNN.h5\n",
      "Epoch 23/50\n",
      "108862/108862 [==============================] - 19s 170us/step - loss: 0.0168 - acc: 0.9942 - val_loss: 0.0178 - val_acc: 0.9940\n",
      "\n",
      "Epoch 00023: val_loss did not improve from 0.01737\n",
      "Epoch 24/50\n",
      "108862/108862 [==============================] - 19s 170us/step - loss: 0.0174 - acc: 0.9939 - val_loss: 0.0220 - val_acc: 0.9926\n",
      "\n",
      "Epoch 00024: val_loss did not improve from 0.01737\n",
      "Epoch 25/50\n",
      "108862/108862 [==============================] - 19s 170us/step - loss: 0.0174 - acc: 0.9941 - val_loss: 0.0149 - val_acc: 0.9949\n",
      "\n",
      "Epoch 00025: val_loss improved from 0.01737 to 0.01492, saving model to ./CNN.h5\n",
      "Epoch 26/50\n",
      "108862/108862 [==============================] - 19s 170us/step - loss: 0.0166 - acc: 0.9942 - val_loss: 0.0141 - val_acc: 0.9952\n",
      "\n",
      "Epoch 00026: val_loss improved from 0.01492 to 0.01408, saving model to ./CNN.h5\n",
      "Epoch 27/50\n",
      "108862/108862 [==============================] - 18s 170us/step - loss: 0.0145 - acc: 0.9951 - val_loss: 0.0157 - val_acc: 0.9945\n",
      "\n",
      "Epoch 00027: val_loss did not improve from 0.01408\n",
      "Epoch 28/50\n",
      "108862/108862 [==============================] - 19s 170us/step - loss: 0.0143 - acc: 0.9950 - val_loss: 0.0146 - val_acc: 0.9953\n",
      "\n",
      "Epoch 00028: val_loss did not improve from 0.01408\n",
      "Epoch 29/50\n",
      "108862/108862 [==============================] - 19s 171us/step - loss: 0.0137 - acc: 0.9954 - val_loss: 0.0133 - val_acc: 0.9959\n",
      "\n",
      "Epoch 00029: val_loss improved from 0.01408 to 0.01332, saving model to ./CNN.h5\n",
      "Epoch 30/50\n",
      "108862/108862 [==============================] - 19s 171us/step - loss: 0.0132 - acc: 0.9954 - val_loss: 0.0137 - val_acc: 0.9953\n",
      "\n",
      "Epoch 00030: val_loss did not improve from 0.01332\n",
      "Epoch 31/50\n",
      "108862/108862 [==============================] - 19s 171us/step - loss: 0.0135 - acc: 0.9955 - val_loss: 0.0151 - val_acc: 0.9954\n",
      "\n",
      "Epoch 00031: val_loss did not improve from 0.01332\n",
      "Epoch 32/50\n",
      "108862/108862 [==============================] - 19s 170us/step - loss: 0.0128 - acc: 0.9956 - val_loss: 0.0133 - val_acc: 0.9953\n",
      "\n",
      "Epoch 00032: val_loss did not improve from 0.01332\n",
      "Epoch 33/50\n",
      "108862/108862 [==============================] - 19s 171us/step - loss: 0.0121 - acc: 0.9959 - val_loss: 0.0143 - val_acc: 0.9954\n",
      "\n",
      "Epoch 00033: val_loss did not improve from 0.01332\n",
      "Epoch 34/50\n",
      "108862/108862 [==============================] - 19s 171us/step - loss: 0.0115 - acc: 0.9963 - val_loss: 0.0112 - val_acc: 0.9967\n",
      "\n",
      "Epoch 00034: val_loss improved from 0.01332 to 0.01124, saving model to ./CNN.h5\n",
      "Epoch 35/50\n",
      "108862/108862 [==============================] - 19s 171us/step - loss: 0.0112 - acc: 0.9961 - val_loss: 0.0127 - val_acc: 0.9958\n",
      "\n",
      "Epoch 00035: val_loss did not improve from 0.01124\n",
      "Epoch 36/50\n",
      "108862/108862 [==============================] - 19s 171us/step - loss: 0.0110 - acc: 0.9964 - val_loss: 0.0124 - val_acc: 0.9962\n",
      "\n",
      "Epoch 00036: val_loss did not improve from 0.01124\n",
      "Epoch 37/50\n",
      "108862/108862 [==============================] - 19s 171us/step - loss: 0.0096 - acc: 0.9967 - val_loss: 0.0141 - val_acc: 0.9956\n",
      "\n",
      "Epoch 00037: val_loss did not improve from 0.01124\n",
      "Epoch 38/50\n",
      "108862/108862 [==============================] - 19s 170us/step - loss: 0.0107 - acc: 0.9963 - val_loss: 0.0101 - val_acc: 0.9968\n",
      "\n",
      "Epoch 00038: val_loss improved from 0.01124 to 0.01012, saving model to ./CNN.h5\n",
      "Epoch 39/50\n",
      "108862/108862 [==============================] - 19s 170us/step - loss: 0.0097 - acc: 0.9968 - val_loss: 0.0125 - val_acc: 0.9962\n",
      "\n",
      "Epoch 00039: val_loss did not improve from 0.01012\n",
      "Epoch 40/50\n",
      "108862/108862 [==============================] - 19s 171us/step - loss: 0.0111 - acc: 0.9964 - val_loss: 0.0110 - val_acc: 0.9967\n",
      "\n",
      "Epoch 00040: val_loss did not improve from 0.01012\n",
      "Epoch 41/50\n",
      "108862/108862 [==============================] - 19s 171us/step - loss: 0.0097 - acc: 0.9966 - val_loss: 0.0106 - val_acc: 0.9967\n",
      "\n",
      "Epoch 00041: val_loss did not improve from 0.01012\n",
      "Epoch 42/50\n",
      "108862/108862 [==============================] - 19s 171us/step - loss: 0.0094 - acc: 0.9967 - val_loss: 0.0107 - val_acc: 0.9964\n",
      "\n",
      "Epoch 00042: val_loss did not improve from 0.01012\n",
      "Epoch 43/50\n",
      "108862/108862 [==============================] - 19s 170us/step - loss: 0.0098 - acc: 0.9966 - val_loss: 0.0111 - val_acc: 0.9964\n",
      "\n",
      "Epoch 00043: val_loss did not improve from 0.01012\n",
      "Epoch 00043: early stopping\n"
     ]
    }
   ],
   "source": [
    "model.compile(loss=keras.losses.categorical_crossentropy,\n",
    "              optimizer=keras.optimizers.Adam(lr=0.0001),\n",
    "              metrics=['accuracy'])\n",
    "\n",
    "hist = model.fit(X_train, y_train,\n",
    "          batch_size=batch_size,\n",
    "          epochs=epochs,\n",
    "          verbose=1,\n",
    "          validation_data=(X_test, y_test),\n",
    "          callbacks = [checkpoint, earlystop])"
   ]
  },
  {
   "cell_type": "code",
   "execution_count": 16,
   "metadata": {},
   "outputs": [],
   "source": [
    "# # Model Definition\n",
    "# input_shape = X_train[0].shape\n",
    "# num_genres = 4\n",
    "\n",
    "# def cnn_vgg16(input_shape, num_genres, freezed_layers):\n",
    "#     input_tensor = Input(shape=input_shape)\n",
    "#     vgg16 = VGG16(include_top=False, weights='imagenet',\n",
    "#                   input_tensor=input_tensor)\n",
    "\n",
    "#     top = Sequential()\n",
    "#     top.add(Flatten(input_shape=vgg16.output_shape[1:]))\n",
    "#     top.add(Dense(256, activation='relu'))\n",
    "#     top.add(Dropout(0.5))\n",
    "#     top.add(Dense(num_genres, activation='softmax'))\n",
    "\n",
    "#     model = Model(inputs=vgg16.input, outputs=top(vgg16.output))\n",
    "#     for layer in model.layers[:freezed_layers]:\n",
    "#         layer.trainable = False\n",
    "\n",
    "#     return model\n",
    "\n",
    "# model = cnn_vgg16(input_shape, num_genres, 10)\n",
    "# model.summary()"
   ]
  },
  {
   "cell_type": "code",
   "execution_count": 17,
   "metadata": {},
   "outputs": [],
   "source": [
    "# model_path = './models/instruments_classifier.h5'\n",
    "\n",
    "# checkpoint = ModelCheckpoint(model_path, monitor='val_loss', save_best_only=True, verbose=1)\n",
    "# earlystop = EarlyStopping(monitor='val_loss', patience=5, verbose=1)\n",
    "# batch_size = 128\n",
    "# epochs = 50"
   ]
  },
  {
   "cell_type": "code",
   "execution_count": 18,
   "metadata": {},
   "outputs": [],
   "source": [
    "# model.compile(loss=keras.losses.categorical_crossentropy,\n",
    "#               optimizer=keras.optimizers.Adam(10e-4),\n",
    "#               metrics=['accuracy'])\n",
    "\n",
    "# hist = model.fit(X_train, y_train,\n",
    "#           batch_size=batch_size,\n",
    "#           epochs=epochs,\n",
    "#           verbose=1,\n",
    "#           validation_data=(X_test, y_test),\n",
    "#           callbacks = [checkpoint, earlystop])"
   ]
  },
  {
   "cell_type": "code",
   "execution_count": 19,
   "metadata": {},
   "outputs": [
    {
     "name": "stdout",
     "output_type": "stream",
     "text": [
      "val_loss = 0.011 and val_acc = 0.996\n"
     ]
    }
   ],
   "source": [
    "score = model.evaluate(X_test, y_test, verbose=0)\n",
    "print(\"val_loss = {:.3f} and val_acc = {:.3f}\".format(score[0], score[1]))"
   ]
  },
  {
   "cell_type": "code",
   "execution_count": 20,
   "metadata": {},
   "outputs": [
    {
     "data": {
      "image/png": "[encoded data removed]",
      "text/plain": [
       "<Figure size 1080x504 with 2 Axes>"
      ]
     },
     "metadata": {
      "needs_background": "light"
     },
     "output_type": "display_data"
    }
   ],
   "source": [
    "plt.figure(figsize=(15,7))\n",
    "\n",
    "plt.subplot(1,2,1)\n",
    "plt.plot(hist.history['acc'], label='train')\n",
    "plt.plot(hist.history['val_acc'], label='validation')\n",
    "plt.title('Accuracy')\n",
    "plt.xlabel('Epochs')\n",
    "plt.ylabel('Accuracy')\n",
    "plt.legend()\n",
    "\n",
    "plt.subplot(1,2,2)\n",
    "plt.plot(hist.history['loss'], label='train')\n",
    "plt.plot(hist.history['val_loss'], label='validation')\n",
    "plt.title('Loss')\n",
    "plt.xlabel('Epochs')\n",
    "plt.ylabel('Loss')\n",
    "plt.legend()\n",
    "\n",
    "plt.tight_layout()\n",
    "plt.show()"
   ]
  },
  {
   "cell_type": "code",
   "execution_count": 21,
   "metadata": {},
   "outputs": [],
   "source": [
    "#http://scikit-learn.org/stable/auto_examples/model_selection/plot_confusion_matrix.html\n",
    "def plot_confusion_matrix(cm, classes,\n",
    "                          normalize=False,\n",
    "                          title='Confusion matrix',\n",
    "                          cmap=plt.cm.Blues):\n",
    "    \"\"\"\n",
    "    This function prints and plots the confusion matrix.\n",
    "    Normalization can be applied by setting `normalize=True`.\n",
    "    \"\"\"\n",
    "    if normalize:\n",
    "        cm = cm.astype('float') / cm.sum(axis=1)[:, np.newaxis]\n",
    "        print(\"Normalized confusion matrix\")\n",
    "    else:\n",
    "        print('Confusion matrix, without normalization')\n",
    "\n",
    "    plt.imshow(cm, interpolation='nearest', cmap=cmap)\n",
    "    plt.title(title)\n",
    "    plt.colorbar()\n",
    "    tick_marks = np.arange(len(classes))\n",
    "    plt.xticks(tick_marks, classes, rotation=45)\n",
    "    plt.yticks(tick_marks, classes)\n",
    "\n",
    "    fmt = '.2f' if normalize else 'd'\n",
    "    thresh = cm.max() / 2.\n",
    "    for i, j in itertools.product(range(cm.shape[0]), range(cm.shape[1])):\n",
    "        plt.text(j, i, format(cm[i, j], fmt),\n",
    "                 horizontalalignment=\"center\",\n",
    "                 color=\"white\" if cm[i, j] > thresh else \"black\")\n",
    "\n",
    "    plt.tight_layout()\n",
    "    plt.ylabel('True label')\n",
    "    plt.xlabel('Predicted label')"
   ]
  },
  {
   "cell_type": "code",
   "execution_count": 22,
   "metadata": {},
   "outputs": [],
   "source": [
    "preds = np.argmax(model.predict(X_test), axis = 1)\n",
    "y_orig = np.argmax(y_test, axis = 1)\n",
    "cm = confusion_matrix(preds, y_orig)"
   ]
  },
  {
   "cell_type": "code",
   "execution_count": 23,
   "metadata": {},
   "outputs": [
    {
     "name": "stdout",
     "output_type": "stream",
     "text": [
      "Normalized confusion matrix\n"
     ]
    },
    {
     "data": {
      "image/png": "[encoded data removed]",
      "text/plain": [
       "<Figure size 576x576 with 2 Axes>"
      ]
     },
     "metadata": {
      "needs_background": "light"
     },
     "output_type": "display_data"
    }
   ],
   "source": [
    "keys = OrderedDict(sorted(genres.items(), key=lambda t: t[1])).keys()\n",
    "\n",
    "plt.figure(figsize=(8,8))\n",
    "plot_confusion_matrix(cm, keys, normalize=True)"
   ]
  },
  {
   "cell_type": "markdown",
   "metadata": {},
   "source": [
    "## Test data process"
   ]
  },
  {
   "cell_type": "code",
   "execution_count": 8,
   "metadata": {},
   "outputs": [],
   "source": [
    "#load model\n",
    "model = load_model('../models/CNN.h5')"
   ]
  },
  {
   "cell_type": "code",
   "execution_count": 98,
   "metadata": {},
   "outputs": [],
   "source": [
    "# Parameters\n",
    "#test_dir = '../instruments_classifier_testing/'\n",
    "test_dir = './demo/piano/sounds_like_guitar/'\n",
    "#test_dir = './demo/guitar/'\n",
    "song_samples = 110000\n",
    "genres_key = {'piano': 0, 'guitar': 1 }"
   ]
  },
  {
   "cell_type": "code",
   "execution_count": 99,
   "metadata": {},
   "outputs": [],
   "source": [
    "def create_filename_list(src_dir):\n",
    "    filename_list = []\n",
    "    for root, subdirs, files in os.walk(src_dir):\n",
    "        for file in files:\n",
    "            filename_list.append(file)\n",
    "    return filename_list"
   ]
  },
  {
   "cell_type": "code",
   "execution_count": 100,
   "metadata": {},
   "outputs": [],
   "source": [
    "def read_test_data(src_dir, song_samples, spec_format):\n",
    "    arr_specs = []\n",
    "    music_splits_len = []\n",
    "    \n",
    "    for root, subdirs, files in os.walk(src_dir):\n",
    "        for file in files:\n",
    "            file_name = src_dir + \"/\" + file\n",
    "            signal, sr = librosa.load(file_name)\n",
    "            \n",
    "            # target_samples = signal.shape[0] - (signal.shape[0] % sr)\n",
    "            signal = signal[:song_samples]\n",
    "                        \n",
    "            # Convert to dataset of spectograms/melspectograms\n",
    "            signals = splitsongs_for_test(signal, music_splits_len)\n",
    "                \n",
    "            # Convert to \"spec\" representation\n",
    "            specs = spec_format(signals)\n",
    "                \n",
    "            # Save files\n",
    "            arr_specs.extend(specs)\n",
    "    return np.array(arr_specs), music_splits_len"
   ]
  },
  {
   "cell_type": "code",
   "execution_count": 101,
   "metadata": {},
   "outputs": [],
   "source": [
    "\"\"\"\n",
    "@description: Method to split a song into multiple songs using overlapping windows\n",
    "\"\"\"\n",
    "def splitsongs_for_test(X, music_splits_len, window = 0.1, overlap = 0.5):\n",
    "    # Empty lists to hold our results\n",
    "    temp_X = []\n",
    "\n",
    "    # Get the input song array size\n",
    "    xshape = X.shape[0]\n",
    "    chunk = int(xshape*window)\n",
    "    offset = int(chunk*(1.-overlap))\n",
    "    \n",
    "    # Split the song and create new ones on windows\n",
    "    spsong = [X[i:i+chunk] for i in range(0, xshape - chunk + offset, offset)]\n",
    "    for s in spsong:\n",
    "        temp_X.append(s)\n",
    "    music_splits_len.append(len(temp_X))\n",
    "    return np.array(temp_X)"
   ]
  },
  {
   "cell_type": "code",
   "execution_count": 102,
   "metadata": {},
   "outputs": [],
   "source": [
    "# Read the data\n",
    "test_x, music_splits_len = read_test_data(test_dir, song_samples, to_melspectrogram)\n",
    "np.save('test_x_instruments_classifier.npy', test_x)"
   ]
  },
  {
   "cell_type": "code",
   "execution_count": 103,
   "metadata": {},
   "outputs": [],
   "source": [
    "X_test = np.load('test_x_instruments_classifier.npy')"
   ]
  },
  {
   "cell_type": "code",
   "execution_count": 104,
   "metadata": {},
   "outputs": [],
   "source": [
    "X_test_stack = np.squeeze(np.stack((X_test,) * 3, -1))"
   ]
  },
  {
   "cell_type": "code",
   "execution_count": 105,
   "metadata": {},
   "outputs": [],
   "source": [
    "predict_result = model.predict(X_test_stack)"
   ]
  },
  {
   "cell_type": "code",
   "execution_count": 106,
   "metadata": {},
   "outputs": [],
   "source": [
    "# 將每首歌的預測結果結合在一起\n",
    "def group_predict_result(predict_result, music_splits_len):\n",
    "    grouping_predict_result = []\n",
    "    delete_result = predict_result\n",
    "    for length in music_splits_len:\n",
    "        temp_grouping = []\n",
    "        for i in range(length):\n",
    "            temp_grouping.append(delete_result[0])\n",
    "            delete_result = np.delete(delete_result, [0], axis=0)\n",
    "        grouping_predict_result.append(temp_grouping)\n",
    "    return grouping_predict_result"
   ]
  },
  {
   "cell_type": "code",
   "execution_count": 107,
   "metadata": {},
   "outputs": [],
   "source": [
    "def most_frequent(List, music_splits_len):\n",
    "    counter = 0\n",
    "    num = List[0]\n",
    "    for i in List: \n",
    "        curr_frequency = List.count(i)\n",
    "        if(curr_frequency> counter):\n",
    "            counter = curr_frequency\n",
    "            num = i\n",
    "            score = (counter/music_splits_len[0]) * 100\n",
    "    return [num, score]"
   ]
  },
  {
   "cell_type": "code",
   "execution_count": 108,
   "metadata": {},
   "outputs": [],
   "source": [
    "# 投票決定該首歌是什麼樂器所演奏\n",
    "def get_predict_result(grouping_predict, music_splits_len):\n",
    "    final_result = []\n",
    "    final_score = []\n",
    "    for group in grouping_predict:\n",
    "        group_indexs = []\n",
    "        for item in group:\n",
    "            max = np.argmax(item, axis=0)\n",
    "            group_indexs.append(max.tolist())\n",
    "#         print(group_indexs)\n",
    "        max_duplicated_value = most_frequent(group_indexs, music_splits_len)\n",
    "#         print(max_duplicated_value)\n",
    "        final_result.append(max_duplicated_value)\n",
    "        \n",
    "    return final_result"
   ]
  },
  {
   "cell_type": "code",
   "execution_count": 109,
   "metadata": {},
   "outputs": [],
   "source": [
    "grouping_predict = group_predict_result(predict_result, music_splits_len)"
   ]
  },
  {
   "cell_type": "code",
   "execution_count": 110,
   "metadata": {},
   "outputs": [],
   "source": [
    "final_predict = get_predict_result(grouping_predict, music_splits_len)"
   ]
  },
  {
   "cell_type": "code",
   "execution_count": 111,
   "metadata": {},
   "outputs": [
    {
     "data": {
      "text/plain": [
       "[[0, 68.42105263157895], [0, 84.21052631578947]]"
      ]
     },
     "execution_count": 111,
     "metadata": {},
     "output_type": "execute_result"
    }
   ],
   "source": [
    "final_predict"
   ]
  },
  {
   "cell_type": "code",
   "execution_count": 112,
   "metadata": {},
   "outputs": [],
   "source": [
    "class_list = [row[0] for row in final_predict]"
   ]
  },
  {
   "cell_type": "code",
   "execution_count": 113,
   "metadata": {},
   "outputs": [],
   "source": [
    "score_list = [row[1] for row in final_predict]"
   ]
  },
  {
   "cell_type": "code",
   "execution_count": 114,
   "metadata": {},
   "outputs": [],
   "source": [
    "filename_list = create_filename_list(test_dir)"
   ]
  },
  {
   "cell_type": "code",
   "execution_count": 115,
   "metadata": {},
   "outputs": [],
   "source": [
    "final_predict = pd.DataFrame({\"id\":filename_list, \"class\":class_list, \"score\":score_list})\n",
    "final_predict.to_csv(\"predict.csv\", index = False)"
   ]
  },
  {
   "cell_type": "code",
   "execution_count": 116,
   "metadata": {},
   "outputs": [
    {
     "data": {
      "text/html": [
       "<div>\n",
       "<style scoped>\n",
       "    .dataframe tbody tr th:only-of-type {\n",
       "        vertical-align: middle;\n",
       "    }\n",
       "\n",
       "    .dataframe tbody tr th {\n",
       "        vertical-align: top;\n",
       "    }\n",
       "\n",
       "    .dataframe thead th {\n",
       "        text-align: right;\n",
       "    }\n",
       "</style>\n",
       "<table border=\"1\" class=\"dataframe\">\n",
       "  <thead>\n",
       "    <tr style=\"text-align: right;\">\n",
       "      <th></th>\n",
       "      <th>id</th>\n",
       "      <th>class</th>\n",
       "      <th>score</th>\n",
       "    </tr>\n",
       "  </thead>\n",
       "  <tbody>\n",
       "    <tr>\n",
       "      <th>0</th>\n",
       "      <td>no_identity-ckpt-17-piano5-0162.wav</td>\n",
       "      <td>0</td>\n",
       "      <td>68.421053</td>\n",
       "    </tr>\n",
       "    <tr>\n",
       "      <th>1</th>\n",
       "      <td>no_identity-ckpt-17-piano5-0087.wav</td>\n",
       "      <td>0</td>\n",
       "      <td>84.210526</td>\n",
       "    </tr>\n",
       "  </tbody>\n",
       "</table>\n",
       "</div>"
      ],
      "text/plain": [
       "                                    id  class      score\n",
       "0  no_identity-ckpt-17-piano5-0162.wav      0  68.421053\n",
       "1  no_identity-ckpt-17-piano5-0087.wav      0  84.210526"
      ]
     },
     "execution_count": 116,
     "metadata": {},
     "output_type": "execute_result"
    }
   ],
   "source": [
    "final_predict"
   ]
  },
  {
   "cell_type": "markdown",
   "metadata": {},
   "source": [
    "# 正確率"
   ]
  },
  {
   "cell_type": "code",
   "execution_count": 117,
   "metadata": {},
   "outputs": [],
   "source": [
    "def getLables():\n",
    "    labels = []\n",
    "    for filename in filename_list:\n",
    "        str_list = filename.split('-')\n",
    "        labels.append(str_list[0])\n",
    "    return labels"
   ]
  },
  {
   "cell_type": "code",
   "execution_count": 118,
   "metadata": {},
   "outputs": [],
   "source": [
    "labels = getLables()"
   ]
  },
  {
   "cell_type": "code",
   "execution_count": 119,
   "metadata": {},
   "outputs": [],
   "source": [
    "solution = pd.DataFrame({\"id\":filename_list, \"class\":labels})"
   ]
  },
  {
   "cell_type": "code",
   "execution_count": 120,
   "metadata": {},
   "outputs": [],
   "source": [
    "genres = {'piano': 0, 'guitar': 1 }"
   ]
  },
  {
   "cell_type": "code",
   "execution_count": 121,
   "metadata": {},
   "outputs": [],
   "source": [
    "mapping = genres"
   ]
  },
  {
   "cell_type": "code",
   "execution_count": 122,
   "metadata": {},
   "outputs": [],
   "source": [
    "solution['class'] = solution['class'].map(mapping)"
   ]
  },
  {
   "cell_type": "code",
   "execution_count": 123,
   "metadata": {},
   "outputs": [],
   "source": [
    "total_count = len(solution['class'])"
   ]
  },
  {
   "cell_type": "code",
   "execution_count": 124,
   "metadata": {},
   "outputs": [],
   "source": [
    "def caculate_accuracy(total_count):\n",
    "    correct = 0\n",
    "    for i in range(total_count):\n",
    "        print('==============================================================')\n",
    "        print('solution index ' + str(i) + ' = ' + str(solution['class'][i]))\n",
    "        print('predict index ' + str(i) + ' = ' + str(final_predict['class'][i]))\n",
    "        if(solution['class'][i] == final_predict['class'][i]):\n",
    "            print('predict correct')\n",
    "            correct += 1\n",
    "    return correct / total_count"
   ]
  },
  {
   "cell_type": "code",
   "execution_count": 125,
   "metadata": {},
   "outputs": [
    {
     "name": "stdout",
     "output_type": "stream",
     "text": [
      "==============================================================\n",
      "solution index 0 = nan\n",
      "predict index 0 = 0\n",
      "==============================================================\n",
      "solution index 1 = nan\n",
      "predict index 1 = 0\n"
     ]
    },
    {
     "data": {
      "text/plain": [
       "0.0"
      ]
     },
     "execution_count": 125,
     "metadata": {},
     "output_type": "execute_result"
    }
   ],
   "source": [
    "caculate_accuracy(total_count)"
   ]
  },
  {
   "cell_type": "code",
   "execution_count": null,
   "metadata": {},
   "outputs": [],
   "source": []
  },
  {
   "cell_type": "code",
   "execution_count": null,
   "metadata": {},
   "outputs": [],
   "source": []
  }
 ],
 "metadata": {
  "kernelspec": {
   "display_name": "Python 3",
   "language": "python",
   "name": "python3"
  },
  "language_info": {
   "codemirror_mode": {
    "name": "ipython",
    "version": 3
   },
   "file_extension": ".py",
   "mimetype": "text/x-python",
   "name": "python",
   "nbconvert_exporter": "python",
   "pygments_lexer": "ipython3",
   "version": "3.6.6"
  }
 },
 "nbformat": 4,
 "nbformat_minor": 2
}
