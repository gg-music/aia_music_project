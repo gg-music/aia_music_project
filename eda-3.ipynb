{
 "cells": [
  {
   "cell_type": "markdown",
   "metadata": {},
   "source": [
    "# 說明\n",
    "整理切好分批為 training / testing sets, 共切成 5 份"
   ]
  },
  {
   "cell_type": "code",
   "execution_count": 1,
   "metadata": {},
   "outputs": [],
   "source": [
    "import numpy as np\n",
    "import pandas as pd\n",
    "import os\n",
    "import warnings\n",
    "warnings.filterwarnings('ignore')\n",
    "import json"
   ]
  },
  {
   "cell_type": "code",
   "execution_count": 2,
   "metadata": {},
   "outputs": [],
   "source": [
    "GTZAN_FOLDER = './gtzan_genre'\n",
    "TRACKS_FOLDER = './track_by_genre'\n",
    "SAVE_FOLDER = './genre_set'\n",
    "SRC_FOLDER = '../fma_preprocessing'"
   ]
  },
  {
   "cell_type": "code",
   "execution_count": 3,
   "metadata": {},
   "outputs": [
    {
     "data": {
      "text/plain": [
       "{'0': 'blues',\n",
       " '1': 'classical',\n",
       " '2': 'country',\n",
       " '3': 'disco',\n",
       " '4': 'hiphop',\n",
       " '5': 'jazz',\n",
       " '6': 'metal',\n",
       " '7': 'pop',\n",
       " '8': 'reggae',\n",
       " '9': 'rock'}"
      ]
     },
     "execution_count": 3,
     "metadata": {},
     "output_type": "execute_result"
    }
   ],
   "source": [
    "with open('./category_label_mapping.json', 'r') as f:\n",
    "    categoryMapping = json.load(f)\n",
    "categoryMapping"
   ]
  },
  {
   "cell_type": "code",
   "execution_count": 5,
   "metadata": {},
   "outputs": [],
   "source": [
    "iptPath = []\n",
    "category = []\n",
    "reverseCategoryMapping = {v: k for k, v in categoryMapping.items()}\n",
    "for dirpath, _, filenames in os.walk(SRC_FOLDER):\n",
    "    for f in filenames:\n",
    "        cat = dirpath.split('/')[2]\n",
    "        category.append(reverseCategoryMapping[cat])\n",
    "        iptPath.append(f'../data{dirpath[2:]}/{f}')"
   ]
  },
  {
   "cell_type": "code",
   "execution_count": 5,
   "metadata": {},
   "outputs": [
    {
     "data": {
      "text/html": [
       "<div>\n",
       "<style scoped>\n",
       "    .dataframe tbody tr th:only-of-type {\n",
       "        vertical-align: middle;\n",
       "    }\n",
       "\n",
       "    .dataframe tbody tr th {\n",
       "        vertical-align: top;\n",
       "    }\n",
       "\n",
       "    .dataframe thead th {\n",
       "        text-align: right;\n",
       "    }\n",
       "</style>\n",
       "<table border=\"1\" class=\"dataframe\">\n",
       "  <thead>\n",
       "    <tr style=\"text-align: right;\">\n",
       "      <th></th>\n",
       "      <th>category</th>\n",
       "      <th>path</th>\n",
       "    </tr>\n",
       "  </thead>\n",
       "  <tbody>\n",
       "    <tr>\n",
       "      <th>0</th>\n",
       "      <td>8</td>\n",
       "      <td>../data/fma_preprocessing/reggae/602-reggae___...</td>\n",
       "    </tr>\n",
       "    <tr>\n",
       "      <th>1</th>\n",
       "      <td>8</td>\n",
       "      <td>../data/fma_preprocessing/reggae/602-reggae___...</td>\n",
       "    </tr>\n",
       "    <tr>\n",
       "      <th>2</th>\n",
       "      <td>8</td>\n",
       "      <td>../data/fma_preprocessing/reggae/602-reggae___...</td>\n",
       "    </tr>\n",
       "    <tr>\n",
       "      <th>3</th>\n",
       "      <td>8</td>\n",
       "      <td>../data/fma_preprocessing/reggae/602-reggae___...</td>\n",
       "    </tr>\n",
       "    <tr>\n",
       "      <th>4</th>\n",
       "      <td>8</td>\n",
       "      <td>../data/fma_preprocessing/reggae/602-reggae___...</td>\n",
       "    </tr>\n",
       "  </tbody>\n",
       "</table>\n",
       "</div>"
      ],
      "text/plain": [
       "  category                                               path\n",
       "0        8  ../data/fma_preprocessing/reggae/602-reggae___...\n",
       "1        8  ../data/fma_preprocessing/reggae/602-reggae___...\n",
       "2        8  ../data/fma_preprocessing/reggae/602-reggae___...\n",
       "3        8  ../data/fma_preprocessing/reggae/602-reggae___...\n",
       "4        8  ../data/fma_preprocessing/reggae/602-reggae___..."
      ]
     },
     "execution_count": 5,
     "metadata": {},
     "output_type": "execute_result"
    }
   ],
   "source": [
    "dfNew = pd.concat([pd.Series(category), pd.Series(iptPath)], axis=1)\n",
    "dfNew.columns = ['category', 'path']\n",
    "dfNew.head()"
   ]
  },
  {
   "cell_type": "code",
   "execution_count": 6,
   "metadata": {},
   "outputs": [],
   "source": [
    "dfNew.to_csv('./all.csv', index=False)"
   ]
  },
  {
   "cell_type": "markdown",
   "metadata": {},
   "source": [
    "## split into sets"
   ]
  },
  {
   "cell_type": "code",
   "execution_count": 7,
   "metadata": {},
   "outputs": [
    {
     "data": {
      "text/html": [
       "<div>\n",
       "<style scoped>\n",
       "    .dataframe tbody tr th:only-of-type {\n",
       "        vertical-align: middle;\n",
       "    }\n",
       "\n",
       "    .dataframe tbody tr th {\n",
       "        vertical-align: top;\n",
       "    }\n",
       "\n",
       "    .dataframe thead th {\n",
       "        text-align: right;\n",
       "    }\n",
       "</style>\n",
       "<table border=\"1\" class=\"dataframe\">\n",
       "  <thead>\n",
       "    <tr style=\"text-align: right;\">\n",
       "      <th></th>\n",
       "      <th>category</th>\n",
       "      <th>path</th>\n",
       "    </tr>\n",
       "  </thead>\n",
       "  <tbody>\n",
       "    <tr>\n",
       "      <th>0</th>\n",
       "      <td>8</td>\n",
       "      <td>../data/fma_preprocessing/reggae/602-reggae___...</td>\n",
       "    </tr>\n",
       "    <tr>\n",
       "      <th>1</th>\n",
       "      <td>8</td>\n",
       "      <td>../data/fma_preprocessing/reggae/602-reggae___...</td>\n",
       "    </tr>\n",
       "    <tr>\n",
       "      <th>2</th>\n",
       "      <td>8</td>\n",
       "      <td>../data/fma_preprocessing/reggae/602-reggae___...</td>\n",
       "    </tr>\n",
       "    <tr>\n",
       "      <th>3</th>\n",
       "      <td>8</td>\n",
       "      <td>../data/fma_preprocessing/reggae/602-reggae___...</td>\n",
       "    </tr>\n",
       "    <tr>\n",
       "      <th>4</th>\n",
       "      <td>8</td>\n",
       "      <td>../data/fma_preprocessing/reggae/602-reggae___...</td>\n",
       "    </tr>\n",
       "  </tbody>\n",
       "</table>\n",
       "</div>"
      ],
      "text/plain": [
       "  category                                               path\n",
       "0        8  ../data/fma_preprocessing/reggae/602-reggae___...\n",
       "1        8  ../data/fma_preprocessing/reggae/602-reggae___...\n",
       "2        8  ../data/fma_preprocessing/reggae/602-reggae___...\n",
       "3        8  ../data/fma_preprocessing/reggae/602-reggae___...\n",
       "4        8  ../data/fma_preprocessing/reggae/602-reggae___..."
      ]
     },
     "metadata": {},
     "output_type": "display_data"
    },
    {
     "name": "stdout",
     "output_type": "stream",
     "text": [
      "batch  1  done\n"
     ]
    },
    {
     "data": {
      "text/html": [
       "<div>\n",
       "<style scoped>\n",
       "    .dataframe tbody tr th:only-of-type {\n",
       "        vertical-align: middle;\n",
       "    }\n",
       "\n",
       "    .dataframe tbody tr th {\n",
       "        vertical-align: top;\n",
       "    }\n",
       "\n",
       "    .dataframe thead th {\n",
       "        text-align: right;\n",
       "    }\n",
       "</style>\n",
       "<table border=\"1\" class=\"dataframe\">\n",
       "  <thead>\n",
       "    <tr style=\"text-align: right;\">\n",
       "      <th></th>\n",
       "      <th>category</th>\n",
       "      <th>path</th>\n",
       "    </tr>\n",
       "  </thead>\n",
       "  <tbody>\n",
       "    <tr>\n",
       "      <th>638</th>\n",
       "      <td>4</td>\n",
       "      <td>../data/fma_preprocessing/hiphop/21-hip_hop/00...</td>\n",
       "    </tr>\n",
       "    <tr>\n",
       "      <th>639</th>\n",
       "      <td>4</td>\n",
       "      <td>../data/fma_preprocessing/hiphop/21-hip_hop/01...</td>\n",
       "    </tr>\n",
       "    <tr>\n",
       "      <th>640</th>\n",
       "      <td>4</td>\n",
       "      <td>../data/fma_preprocessing/hiphop/21-hip_hop/00...</td>\n",
       "    </tr>\n",
       "    <tr>\n",
       "      <th>641</th>\n",
       "      <td>4</td>\n",
       "      <td>../data/fma_preprocessing/hiphop/21-hip_hop/00...</td>\n",
       "    </tr>\n",
       "    <tr>\n",
       "      <th>642</th>\n",
       "      <td>4</td>\n",
       "      <td>../data/fma_preprocessing/hiphop/21-hip_hop/01...</td>\n",
       "    </tr>\n",
       "  </tbody>\n",
       "</table>\n",
       "</div>"
      ],
      "text/plain": [
       "    category                                               path\n",
       "638        4  ../data/fma_preprocessing/hiphop/21-hip_hop/00...\n",
       "639        4  ../data/fma_preprocessing/hiphop/21-hip_hop/01...\n",
       "640        4  ../data/fma_preprocessing/hiphop/21-hip_hop/00...\n",
       "641        4  ../data/fma_preprocessing/hiphop/21-hip_hop/00...\n",
       "642        4  ../data/fma_preprocessing/hiphop/21-hip_hop/01..."
      ]
     },
     "metadata": {},
     "output_type": "display_data"
    },
    {
     "name": "stdout",
     "output_type": "stream",
     "text": [
      "batch  2  done\n"
     ]
    },
    {
     "data": {
      "text/html": [
       "<div>\n",
       "<style scoped>\n",
       "    .dataframe tbody tr th:only-of-type {\n",
       "        vertical-align: middle;\n",
       "    }\n",
       "\n",
       "    .dataframe tbody tr th {\n",
       "        vertical-align: top;\n",
       "    }\n",
       "\n",
       "    .dataframe thead th {\n",
       "        text-align: right;\n",
       "    }\n",
       "</style>\n",
       "<table border=\"1\" class=\"dataframe\">\n",
       "  <thead>\n",
       "    <tr style=\"text-align: right;\">\n",
       "      <th></th>\n",
       "      <th>category</th>\n",
       "      <th>path</th>\n",
       "    </tr>\n",
       "  </thead>\n",
       "  <tbody>\n",
       "    <tr>\n",
       "      <th>1276</th>\n",
       "      <td>0</td>\n",
       "      <td>../data/fma_preprocessing/blues/3-blues/100487...</td>\n",
       "    </tr>\n",
       "    <tr>\n",
       "      <th>1277</th>\n",
       "      <td>0</td>\n",
       "      <td>../data/fma_preprocessing/blues/3-blues/057799...</td>\n",
       "    </tr>\n",
       "    <tr>\n",
       "      <th>1278</th>\n",
       "      <td>0</td>\n",
       "      <td>../data/fma_preprocessing/blues/3-blues/020576...</td>\n",
       "    </tr>\n",
       "    <tr>\n",
       "      <th>1279</th>\n",
       "      <td>0</td>\n",
       "      <td>../data/fma_preprocessing/blues/3-blues/039502...</td>\n",
       "    </tr>\n",
       "    <tr>\n",
       "      <th>1280</th>\n",
       "      <td>0</td>\n",
       "      <td>../data/fma_preprocessing/blues/3-blues/105093...</td>\n",
       "    </tr>\n",
       "  </tbody>\n",
       "</table>\n",
       "</div>"
      ],
      "text/plain": [
       "     category                                               path\n",
       "1276        0  ../data/fma_preprocessing/blues/3-blues/100487...\n",
       "1277        0  ../data/fma_preprocessing/blues/3-blues/057799...\n",
       "1278        0  ../data/fma_preprocessing/blues/3-blues/020576...\n",
       "1279        0  ../data/fma_preprocessing/blues/3-blues/039502...\n",
       "1280        0  ../data/fma_preprocessing/blues/3-blues/105093..."
      ]
     },
     "metadata": {},
     "output_type": "display_data"
    },
    {
     "name": "stdout",
     "output_type": "stream",
     "text": [
      "batch  3  done\n"
     ]
    },
    {
     "data": {
      "text/html": [
       "<div>\n",
       "<style scoped>\n",
       "    .dataframe tbody tr th:only-of-type {\n",
       "        vertical-align: middle;\n",
       "    }\n",
       "\n",
       "    .dataframe tbody tr th {\n",
       "        vertical-align: top;\n",
       "    }\n",
       "\n",
       "    .dataframe thead th {\n",
       "        text-align: right;\n",
       "    }\n",
       "</style>\n",
       "<table border=\"1\" class=\"dataframe\">\n",
       "  <thead>\n",
       "    <tr style=\"text-align: right;\">\n",
       "      <th></th>\n",
       "      <th>category</th>\n",
       "      <th>path</th>\n",
       "    </tr>\n",
       "  </thead>\n",
       "  <tbody>\n",
       "    <tr>\n",
       "      <th>1914</th>\n",
       "      <td>0</td>\n",
       "      <td>../data/fma_preprocessing/blues/3-blues/113364...</td>\n",
       "    </tr>\n",
       "    <tr>\n",
       "      <th>1915</th>\n",
       "      <td>0</td>\n",
       "      <td>../data/fma_preprocessing/blues/3-blues/112030...</td>\n",
       "    </tr>\n",
       "    <tr>\n",
       "      <th>1916</th>\n",
       "      <td>0</td>\n",
       "      <td>../data/fma_preprocessing/blues/3-blues/045262...</td>\n",
       "    </tr>\n",
       "    <tr>\n",
       "      <th>1917</th>\n",
       "      <td>0</td>\n",
       "      <td>../data/fma_preprocessing/blues/3-blues/114513...</td>\n",
       "    </tr>\n",
       "    <tr>\n",
       "      <th>1918</th>\n",
       "      <td>0</td>\n",
       "      <td>../data/fma_preprocessing/blues/3-blues/048073...</td>\n",
       "    </tr>\n",
       "  </tbody>\n",
       "</table>\n",
       "</div>"
      ],
      "text/plain": [
       "     category                                               path\n",
       "1914        0  ../data/fma_preprocessing/blues/3-blues/113364...\n",
       "1915        0  ../data/fma_preprocessing/blues/3-blues/112030...\n",
       "1916        0  ../data/fma_preprocessing/blues/3-blues/045262...\n",
       "1917        0  ../data/fma_preprocessing/blues/3-blues/114513...\n",
       "1918        0  ../data/fma_preprocessing/blues/3-blues/048073..."
      ]
     },
     "metadata": {},
     "output_type": "display_data"
    },
    {
     "name": "stdout",
     "output_type": "stream",
     "text": [
      "batch  4  done\n"
     ]
    },
    {
     "data": {
      "text/html": [
       "<div>\n",
       "<style scoped>\n",
       "    .dataframe tbody tr th:only-of-type {\n",
       "        vertical-align: middle;\n",
       "    }\n",
       "\n",
       "    .dataframe tbody tr th {\n",
       "        vertical-align: top;\n",
       "    }\n",
       "\n",
       "    .dataframe thead th {\n",
       "        text-align: right;\n",
       "    }\n",
       "</style>\n",
       "<table border=\"1\" class=\"dataframe\">\n",
       "  <thead>\n",
       "    <tr style=\"text-align: right;\">\n",
       "      <th></th>\n",
       "      <th>category</th>\n",
       "      <th>path</th>\n",
       "    </tr>\n",
       "  </thead>\n",
       "  <tbody>\n",
       "    <tr>\n",
       "      <th>2552</th>\n",
       "      <td>3</td>\n",
       "      <td>../data/fma_preprocessing/disco/11-disco/00076...</td>\n",
       "    </tr>\n",
       "    <tr>\n",
       "      <th>2553</th>\n",
       "      <td>3</td>\n",
       "      <td>../data/fma_preprocessing/disco/11-disco/01622...</td>\n",
       "    </tr>\n",
       "    <tr>\n",
       "      <th>2554</th>\n",
       "      <td>3</td>\n",
       "      <td>../data/fma_preprocessing/disco/11-disco/01610...</td>\n",
       "    </tr>\n",
       "    <tr>\n",
       "      <th>2555</th>\n",
       "      <td>3</td>\n",
       "      <td>../data/fma_preprocessing/disco/11-disco/00074...</td>\n",
       "    </tr>\n",
       "    <tr>\n",
       "      <th>2556</th>\n",
       "      <td>3</td>\n",
       "      <td>../data/fma_preprocessing/disco/11-disco/00077...</td>\n",
       "    </tr>\n",
       "  </tbody>\n",
       "</table>\n",
       "</div>"
      ],
      "text/plain": [
       "     category                                               path\n",
       "2552        3  ../data/fma_preprocessing/disco/11-disco/00076...\n",
       "2553        3  ../data/fma_preprocessing/disco/11-disco/01622...\n",
       "2554        3  ../data/fma_preprocessing/disco/11-disco/01610...\n",
       "2555        3  ../data/fma_preprocessing/disco/11-disco/00074...\n",
       "2556        3  ../data/fma_preprocessing/disco/11-disco/00077..."
      ]
     },
     "metadata": {},
     "output_type": "display_data"
    },
    {
     "name": "stdout",
     "output_type": "stream",
     "text": [
      "batch  5  done\n"
     ]
    }
   ],
   "source": [
    "BATCH_FOLDER = './input_set'\n",
    "N_SPLIT = 5\n",
    "BATCH_SIZE = round(dfNew.shape[0] / 5)\n",
    "if not os.path.isdir(BATCH_FOLDER):\n",
    "    os.makedirs(f'{BATCH_FOLDER}/raw', mode=0o777)\n",
    "    os.makedirs(f'{BATCH_FOLDER}/training', mode=0o777)\n",
    "    os.makedirs(f'{BATCH_FOLDER}/testing', mode=0o777)\n",
    "for i in range(N_SPLIT):\n",
    "    dfNew[i * BATCH_SIZE:(i + 1) * BATCH_SIZE].to_csv(f'{BATCH_FOLDER}/raw/raw-{i}.csv', index=False)\n",
    "    print(dfNew[i * BATCH_SIZE:(i + 1) * BATCH_SIZE].head())\n",
    "    print('batch ', i + 1, ' done')"
   ]
  },
  {
   "cell_type": "markdown",
   "metadata": {},
   "source": [
    "## split training & testing sets"
   ]
  },
  {
   "cell_type": "code",
   "execution_count": 8,
   "metadata": {},
   "outputs": [
    {
     "name": "stdout",
     "output_type": "stream",
     "text": [
      "raw-3.csv\n",
      "raw-2.csv\n",
      "raw-1.csv\n",
      "raw-4.csv\n",
      "raw-0.csv\n"
     ]
    }
   ],
   "source": [
    "TESTING_RATIO = 0.1\n",
    "for i, f in enumerate(os.listdir(f'{BATCH_FOLDER}/raw')):\n",
    "    if '.ipynb_checkpoints' in f:\n",
    "        continue\n",
    "    print(f)\n",
    "    df = pd.read_csv(f'{BATCH_FOLDER}/raw/{f}')\n",
    "    trainingLen = round((1-TESTING_RATIO) * df.shape[0])\n",
    "    testingLen = df.shape[0] - trainingLen\n",
    "    df[i * trainingLen:(i + 1) * trainingLen].to_csv(f'{BATCH_FOLDER}/training/training-{i}.csv', index=False)\n",
    "    df[i * testingLen:(i + 1) * testingLen].to_csv(f'{BATCH_FOLDER}/testing/testing-{i}.csv', index=False)"
   ]
  }
 ],
 "metadata": {
  "kernelspec": {
   "display_name": "Python 3",
   "language": "python",
   "name": "python3"
  },
  "language_info": {
   "codemirror_mode": {
    "name": "ipython",
    "version": 3
   },
   "file_extension": ".py",
   "mimetype": "text/x-python",
   "name": "python",
   "nbconvert_exporter": "python",
   "pygments_lexer": "ipython3",
   "version": "3.6.6"
  }
 },
 "nbformat": 4,
 "nbformat_minor": 2
}
