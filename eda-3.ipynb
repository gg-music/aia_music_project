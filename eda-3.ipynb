{
 "cells": [
  {
   "cell_type": "markdown",
   "metadata": {},
   "source": [
    "# 說明\n",
    "整理切好分批為 training / testing sets, 共切成 5 份"
   ]
  },
  {
   "cell_type": "code",
   "execution_count": 6,
   "metadata": {},
   "outputs": [],
   "source": [
    "import numpy as np\n",
    "import pandas as pd\n",
    "import os\n",
    "import warnings\n",
    "warnings.filterwarnings('ignore')\n",
    "import json"
   ]
  },
  {
   "cell_type": "code",
   "execution_count": 7,
   "metadata": {},
   "outputs": [],
   "source": [
    "GTZAN_FOLDER = './gtzan_genre'\n",
    "TRACKS_FOLDER = './track_by_genre'\n",
    "SAVE_FOLDER = './genre_set'\n",
    "SRC_FOLDER = '../fma_preprocessing'"
   ]
  },
  {
   "cell_type": "code",
   "execution_count": 8,
   "metadata": {},
   "outputs": [
    {
     "data": {
      "text/plain": [
       "{'0': 'blues',\n",
       " '1': 'classical',\n",
       " '2': 'country',\n",
       " '3': 'disco',\n",
       " '4': 'hiphop',\n",
       " '5': 'jazz',\n",
       " '6': 'metal',\n",
       " '7': 'pop',\n",
       " '8': 'reggae',\n",
       " '9': 'rock'}"
      ]
     },
     "execution_count": 8,
     "metadata": {},
     "output_type": "execute_result"
    }
   ],
   "source": [
    "with open('./category_label_mapping.json', 'r') as f:\n",
    "    categoryMapping = json.load(f)\n",
    "categoryMapping"
   ]
  },
  {
   "cell_type": "code",
   "execution_count": 9,
   "metadata": {},
   "outputs": [],
   "source": [
    "iptPath = []\n",
    "category = []\n",
    "reverseCategoryMapping = {v: k for k, v in categoryMapping.items()}\n",
    "for dirpath, _, filenames in os.walk(SRC_FOLDER):\n",
    "    for f in filenames:\n",
    "        cat = dirpath.split('/')[2]\n",
    "        category.append(reverseCategoryMapping[cat])\n",
    "        iptPath.append(f'../data{dirpath[2:]}/{f}')"
   ]
  },
  {
   "cell_type": "code",
   "execution_count": 10,
   "metadata": {},
   "outputs": [
    {
     "data": {
      "text/html": [
       "<div>\n",
       "<style scoped>\n",
       "    .dataframe tbody tr th:only-of-type {\n",
       "        vertical-align: middle;\n",
       "    }\n",
       "\n",
       "    .dataframe tbody tr th {\n",
       "        vertical-align: top;\n",
       "    }\n",
       "\n",
       "    .dataframe thead th {\n",
       "        text-align: right;\n",
       "    }\n",
       "</style>\n",
       "<table border=\"1\" class=\"dataframe\">\n",
       "  <thead>\n",
       "    <tr style=\"text-align: right;\">\n",
       "      <th></th>\n",
       "      <th>category</th>\n",
       "      <th>path</th>\n",
       "    </tr>\n",
       "  </thead>\n",
       "  <tbody>\n",
       "    <tr>\n",
       "      <th>0</th>\n",
       "      <td>8</td>\n",
       "      <td>../data/fma_preprocessing/reggae/602-reggae___...</td>\n",
       "    </tr>\n",
       "    <tr>\n",
       "      <th>1</th>\n",
       "      <td>8</td>\n",
       "      <td>../data/fma_preprocessing/reggae/602-reggae___...</td>\n",
       "    </tr>\n",
       "    <tr>\n",
       "      <th>2</th>\n",
       "      <td>8</td>\n",
       "      <td>../data/fma_preprocessing/reggae/602-reggae___...</td>\n",
       "    </tr>\n",
       "    <tr>\n",
       "      <th>3</th>\n",
       "      <td>8</td>\n",
       "      <td>../data/fma_preprocessing/reggae/602-reggae___...</td>\n",
       "    </tr>\n",
       "    <tr>\n",
       "      <th>4</th>\n",
       "      <td>8</td>\n",
       "      <td>../data/fma_preprocessing/reggae/602-reggae___...</td>\n",
       "    </tr>\n",
       "  </tbody>\n",
       "</table>\n",
       "</div>"
      ],
      "text/plain": [
       "  category                                               path\n",
       "0        8  ../data/fma_preprocessing/reggae/602-reggae___...\n",
       "1        8  ../data/fma_preprocessing/reggae/602-reggae___...\n",
       "2        8  ../data/fma_preprocessing/reggae/602-reggae___...\n",
       "3        8  ../data/fma_preprocessing/reggae/602-reggae___...\n",
       "4        8  ../data/fma_preprocessing/reggae/602-reggae___..."
      ]
     },
     "execution_count": 10,
     "metadata": {},
     "output_type": "execute_result"
    }
   ],
   "source": [
    "dfNew = pd.concat([pd.Series(category), pd.Series(iptPath)], axis=1)\n",
    "dfNew.columns = ['category', 'path']\n",
    "dfNew.head()"
   ]
  },
  {
   "cell_type": "code",
   "execution_count": 11,
   "metadata": {},
   "outputs": [],
   "source": [
    "dfNew.to_csv('./all.csv', index=False)"
   ]
  },
  {
   "cell_type": "markdown",
   "metadata": {},
   "source": [
    "## split into sets"
   ]
  },
  {
   "cell_type": "code",
   "execution_count": 12,
   "metadata": {},
   "outputs": [
    {
     "name": "stdout",
     "output_type": "stream",
     "text": [
      "  category                                               path\n",
      "0        8  ../data/fma_preprocessing/reggae/602-reggae___...\n",
      "1        8  ../data/fma_preprocessing/reggae/602-reggae___...\n",
      "2        8  ../data/fma_preprocessing/reggae/602-reggae___...\n",
      "3        8  ../data/fma_preprocessing/reggae/602-reggae___...\n",
      "4        8  ../data/fma_preprocessing/reggae/602-reggae___...\n",
      "batch  1  done\n",
      "    category                                               path\n",
      "638        4  ../data/fma_preprocessing/hiphop/21-hip_hop/00...\n",
      "639        4  ../data/fma_preprocessing/hiphop/21-hip_hop/01...\n",
      "640        4  ../data/fma_preprocessing/hiphop/21-hip_hop/00...\n",
      "641        4  ../data/fma_preprocessing/hiphop/21-hip_hop/00...\n",
      "642        4  ../data/fma_preprocessing/hiphop/21-hip_hop/01...\n",
      "batch  2  done\n",
      "     category                                               path\n",
      "1276        0  ../data/fma_preprocessing/blues/3-blues/100487...\n",
      "1277        0  ../data/fma_preprocessing/blues/3-blues/057799...\n",
      "1278        0  ../data/fma_preprocessing/blues/3-blues/020576...\n",
      "1279        0  ../data/fma_preprocessing/blues/3-blues/039502...\n",
      "1280        0  ../data/fma_preprocessing/blues/3-blues/105093...\n",
      "batch  3  done\n",
      "     category                                               path\n",
      "1914        0  ../data/fma_preprocessing/blues/3-blues/113364...\n",
      "1915        0  ../data/fma_preprocessing/blues/3-blues/112030...\n",
      "1916        0  ../data/fma_preprocessing/blues/3-blues/045262...\n",
      "1917        0  ../data/fma_preprocessing/blues/3-blues/114513...\n",
      "1918        0  ../data/fma_preprocessing/blues/3-blues/048073...\n",
      "batch  4  done\n",
      "     category                                               path\n",
      "2552        3  ../data/fma_preprocessing/disco/11-disco/00076...\n",
      "2553        3  ../data/fma_preprocessing/disco/11-disco/01622...\n",
      "2554        3  ../data/fma_preprocessing/disco/11-disco/01610...\n",
      "2555        3  ../data/fma_preprocessing/disco/11-disco/00074...\n",
      "2556        3  ../data/fma_preprocessing/disco/11-disco/00077...\n",
      "batch  5  done\n"
     ]
    }
   ],
   "source": [
    "BATCH_FOLDER = './input_set'\n",
    "N_SPLIT = 5\n",
    "BATCH_SIZE = round(dfNew.shape[0] / 5)\n",
    "if not os.path.isdir(BATCH_FOLDER):\n",
    "    os.makedirs(f'{BATCH_FOLDER}/raw', mode=0o777)\n",
    "    os.makedirs(f'{BATCH_FOLDER}/training', mode=0o777)\n",
    "    os.makedirs(f'{BATCH_FOLDER}/testing', mode=0o777)\n",
    "for i in range(N_SPLIT):\n",
    "    dfNew[i * BATCH_SIZE:(i + 1) * BATCH_SIZE].to_csv(f'{BATCH_FOLDER}/raw/raw-{i}.csv', index=False)\n",
    "    print(dfNew[i * BATCH_SIZE:(i + 1) * BATCH_SIZE].head())\n",
    "    print('batch ', i + 1, ' done')"
   ]
  },
  {
   "cell_type": "markdown",
   "metadata": {},
   "source": [
    "## split training & testing sets"
   ]
  },
  {
   "cell_type": "code",
   "execution_count": 14,
   "metadata": {},
   "outputs": [
    {
     "name": "stdout",
     "output_type": "stream",
     "text": [
      "0\n",
      "1\n",
      "2\n",
      "3\n",
      "4\n"
     ]
    }
   ],
   "source": [
    "TESTING_RATIO = 0.1\n",
    "for i, f in enumerate(os.listdir(f'{BATCH_FOLDER}/raw')):\n",
    "    if '.ipynb_checkpoints' in f:\n",
    "        continue\n",
    "    print(i)\n",
    "    df = pd.read_csv(f'{BATCH_FOLDER}/raw/{f}')\n",
    "    trainingLen = round((1-TESTING_RATIO) * df.shape[0])\n",
    "    testingLen = df.shape[0] - trainingLen\n",
    "    df[:trainingLen].to_csv(f'{BATCH_FOLDER}/training/training-{i}.csv', index=False)\n",
    "    df[trainingLen:].to_csv(f'{BATCH_FOLDER}/testing/testing-{i}.csv', index=False)"
   ]
  },
  {
   "cell_type": "code",
   "execution_count": null,
   "metadata": {},
   "outputs": [],
   "source": []
  }
 ],
 "metadata": {
  "kernelspec": {
   "display_name": "Python 3",
   "language": "python",
   "name": "python3"
  },
  "language_info": {
   "codemirror_mode": {
    "name": "ipython",
    "version": 3
   },
   "file_extension": ".py",
   "mimetype": "text/x-python",
   "name": "python",
   "nbconvert_exporter": "python",
   "pygments_lexer": "ipython3",
   "version": "3.6.6"
  }
 },
 "nbformat": 4,
 "nbformat_minor": 2
}
