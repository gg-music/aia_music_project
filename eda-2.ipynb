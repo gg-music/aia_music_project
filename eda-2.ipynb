{
 "cells": [
  {
   "cell_type": "markdown",
   "metadata": {},
   "source": [
    "# 說明\n",
    "用 gtzan 的分類去做 fma 的分類 csv"
   ]
  },
  {
   "cell_type": "code",
   "execution_count": 11,
   "metadata": {},
   "outputs": [],
   "source": [
    "import numpy as np\n",
    "import pandas as pd\n",
    "import os\n",
    "import warnings\n",
    "warnings.filterwarnings('ignore')\n",
    "import re"
   ]
  },
  {
   "cell_type": "code",
   "execution_count": 12,
   "metadata": {},
   "outputs": [],
   "source": [
    "GTZAN_FOLDER = './gtzan_genre'\n",
    "TRACKS_FOLDER = './track_by_genre'"
   ]
  },
  {
   "cell_type": "code",
   "execution_count": 13,
   "metadata": {},
   "outputs": [],
   "source": [
    "df = pd.read_csv('./gtzan_fma_mapping.csv', names=['category','label', 'csv_name'])"
   ]
  },
  {
   "cell_type": "code",
   "execution_count": 14,
   "metadata": {},
   "outputs": [
    {
     "data": {
      "text/html": [
       "<div>\n",
       "<style scoped>\n",
       "    .dataframe tbody tr th:only-of-type {\n",
       "        vertical-align: middle;\n",
       "    }\n",
       "\n",
       "    .dataframe tbody tr th {\n",
       "        vertical-align: top;\n",
       "    }\n",
       "\n",
       "    .dataframe thead th {\n",
       "        text-align: right;\n",
       "    }\n",
       "</style>\n",
       "<table border=\"1\" class=\"dataframe\">\n",
       "  <thead>\n",
       "    <tr style=\"text-align: right;\">\n",
       "      <th></th>\n",
       "      <th>category</th>\n",
       "      <th>label</th>\n",
       "      <th>csv_name</th>\n",
       "    </tr>\n",
       "  </thead>\n",
       "  <tbody>\n",
       "    <tr>\n",
       "      <th>0</th>\n",
       "      <td>0</td>\n",
       "      <td>blues</td>\n",
       "      <td>3-blues.csv</td>\n",
       "    </tr>\n",
       "    <tr>\n",
       "      <th>1</th>\n",
       "      <td>0</td>\n",
       "      <td>blues</td>\n",
       "      <td>567-gospel.csv</td>\n",
       "    </tr>\n",
       "    <tr>\n",
       "      <th>2</th>\n",
       "      <td>1</td>\n",
       "      <td>classical</td>\n",
       "      <td>5-classical.csv</td>\n",
       "    </tr>\n",
       "    <tr>\n",
       "      <th>3</th>\n",
       "      <td>1</td>\n",
       "      <td>classical</td>\n",
       "      <td>187-20th_century_classical.csv</td>\n",
       "    </tr>\n",
       "    <tr>\n",
       "      <th>4</th>\n",
       "      <td>1</td>\n",
       "      <td>classical</td>\n",
       "      <td>322-composed_music.csv</td>\n",
       "    </tr>\n",
       "  </tbody>\n",
       "</table>\n",
       "</div>"
      ],
      "text/plain": [
       "   category      label                        csv_name\n",
       "0         0      blues                     3-blues.csv\n",
       "1         0      blues                  567-gospel.csv\n",
       "2         1  classical                 5-classical.csv\n",
       "3         1  classical  187-20th_century_classical.csv\n",
       "4         1  classical         322-composed_music.csv "
      ]
     },
     "execution_count": 14,
     "metadata": {},
     "output_type": "execute_result"
    }
   ],
   "source": [
    "df.head()"
   ]
  },
  {
   "cell_type": "code",
   "execution_count": 15,
   "metadata": {},
   "outputs": [],
   "source": [
    "df[['csv_name']] = df[['csv_name']].apply(lambda x: x.str.strip())"
   ]
  },
  {
   "cell_type": "markdown",
   "metadata": {},
   "source": [
    "# make dirs"
   ]
  },
  {
   "cell_type": "code",
   "execution_count": 16,
   "metadata": {},
   "outputs": [],
   "source": [
    "category = {}\n",
    "for idx, cat in enumerate(df['label'].unique()):\n",
    "    category[idx] = cat\n",
    "    if not os.path.isdir(f'{GTZAN_FOLDER}/{cat}'):\n",
    "        os.makedirs(f'{GTZAN_FOLDER}/{cat}', mode=0o777)"
   ]
  },
  {
   "cell_type": "markdown",
   "metadata": {},
   "source": [
    "# labeling mapping"
   ]
  },
  {
   "cell_type": "code",
   "execution_count": 17,
   "metadata": {},
   "outputs": [],
   "source": [
    "import json\n",
    "with open('category_label_mapping.json', 'w') as f:\n",
    "    json.dump(category, f)"
   ]
  },
  {
   "cell_type": "markdown",
   "metadata": {},
   "source": [
    "# cp file to folder"
   ]
  },
  {
   "cell_type": "code",
   "execution_count": 18,
   "metadata": {},
   "outputs": [
    {
     "name": "stdout",
     "output_type": "stream",
     "text": [
      "copy file from: ./track_by_genre/3-blues.csv to: ./gtzan_genre/blues/3-blues.csv\n",
      "copy file from: ./track_by_genre/567-gospel.csv to: ./gtzan_genre/blues/567-gospel.csv\n",
      "copy file from: ./track_by_genre/5-classical.csv to: ./gtzan_genre/classical/5-classical.csv\n",
      "copy file from: ./track_by_genre/187-20th_century_classical.csv to: ./gtzan_genre/classical/187-20th_century_classical.csv\n",
      "copy file from: ./track_by_genre/322-composed_music.csv to: ./gtzan_genre/classical/322-composed_music.csv\n",
      "copy file from: ./track_by_genre/441-opera.csv to: ./gtzan_genre/classical/441-opera.csv\n",
      "copy file from: ./track_by_genre/442-chamber_music.csv to: ./gtzan_genre/classical/442-chamber_music.csv\n",
      "copy file from: ./track_by_genre/443-choral_music.csv to: ./gtzan_genre/classical/443-choral_music.csv\n",
      "copy file from: ./track_by_genre/444-symphony.csv to: ./gtzan_genre/classical/444-symphony.csv\n",
      "copy file from: ./track_by_genre/659-contemporary_classical.csv to: ./gtzan_genre/classical/659-contemporary_classical.csv\n",
      "copy file from: ./track_by_genre/9-country.csv to: ./gtzan_genre/country/9-country.csv\n",
      "copy file from: ./track_by_genre/63-bluegrass.csv to: ./gtzan_genre/country/63-bluegrass.csv\n",
      "copy file from: ./track_by_genre/137-americana.csv to: ./gtzan_genre/country/137-americana.csv\n",
      "copy file from: ./track_by_genre/169-rockabilly.csv to: ./gtzan_genre/country/169-rockabilly.csv\n",
      "copy file from: ./track_by_genre/493-western_swing.csv to: ./gtzan_genre/country/493-western_swing.csv\n",
      "copy file from: ./track_by_genre/651-country_and_western.csv to: ./gtzan_genre/country/651-country_and_western.csv\n",
      "copy file from: ./track_by_genre/11-disco.csv to: ./gtzan_genre/disco/11-disco.csv\n",
      "copy file from: ./track_by_genre/21-hip_hop.csv to: ./gtzan_genre/hiphop/21-hip_hop.csv\n",
      "copy file from: ./track_by_genre/100-alternative_hip_hop.csv to: ./gtzan_genre/hiphop/100-alternative_hip_hop.csv\n",
      "copy file from: ./track_by_genre/542-breakbeat.csv to: ./gtzan_genre/hiphop/542-breakbeat.csv\n",
      "copy file from: ./track_by_genre/811-hip_hop_beats.csv to: ./gtzan_genre/hiphop/811-hip_hop_beats.csv\n",
      "copy file from: ./track_by_genre/83-nerdcore.csv to: ./gtzan_genre/hiphop/83-nerdcore.csv\n",
      "copy file from: ./track_by_genre/539-rap.csv to: ./gtzan_genre/hiphop/539-rap.csv\n",
      "copy file from: ./track_by_genre/693-wonky.csv to: ./gtzan_genre/hiphop/693-wonky.csv\n",
      "copy file from: ./track_by_genre/179-big_band_swing.csv to: ./gtzan_genre/jazz/179-big_band_swing.csv\n",
      "copy file from: ./track_by_genre/37-jazz__vocal.csv to: ./gtzan_genre/jazz/37-jazz__vocal.csv\n",
      "copy file from: ./track_by_genre/4-jazz.csv to: ./gtzan_genre/jazz/4-jazz.csv\n",
      "copy file from: ./track_by_genre/74-free_jazz.csv to: ./gtzan_genre/jazz/74-free_jazz.csv\n",
      "copy file from: ./track_by_genre/810-nu_jazz.csv to: ./gtzan_genre/jazz/810-nu_jazz.csv\n",
      "copy file from: ./track_by_genre/906-modern_jazz.csv to: ./gtzan_genre/jazz/906-modern_jazz.csv\n",
      "copy file from: ./track_by_genre/97-jazz__out.csv to: ./gtzan_genre/jazz/97-jazz__out.csv\n",
      "copy file from: ./track_by_genre/31-metal.csv to: ./gtzan_genre/metal/31-metal.csv\n",
      "copy file from: ./track_by_genre/101-death_metal.csv to: ./gtzan_genre/metal/101-death_metal.csv\n",
      "copy file from: ./track_by_genre/167-black_metal.csv to: ./gtzan_genre/metal/167-black_metal.csv\n",
      "copy file from: ./track_by_genre/10-pop.csv to: ./gtzan_genre/pop/10-pop.csv\n",
      "copy file from: ./track_by_genre/362-synth_pop.csv to: ./gtzan_genre/pop/362-synth_pop.csv\n",
      "copy file from: ./track_by_genre/76-experimental_pop.csv to: ./gtzan_genre/pop/76-experimental_pop.csv\n",
      "copy file from: ./track_by_genre/602-reggae___dancehall.csv to: ./gtzan_genre/reggae/602-reggae___dancehall.csv\n",
      "copy file from: ./track_by_genre/79-reggae___dub.csv to: ./gtzan_genre/reggae/79-reggae___dub.csv\n",
      "copy file from: ./track_by_genre/12-rock.csv to: ./gtzan_genre/rock/12-rock.csv\n",
      "copy file from: ./track_by_genre/113-space_rock.csv to: ./gtzan_genre/rock/113-space_rock.csv\n",
      "copy file from: ./track_by_genre/85-garage.csv to: ./gtzan_genre/rock/85-garage.csv\n",
      "copy file from: ./track_by_genre/404-surf.csv to: ./gtzan_genre/rock/404-surf.csv\n",
      "copy file from: ./track_by_genre/314-goth.csv to: ./gtzan_genre/rock/314-goth.csv\n",
      "copy file from: ./track_by_genre/70-industrial.csv to: ./gtzan_genre/rock/70-industrial.csv\n",
      "copy file from: ./track_by_genre/36-krautrock.csv to: ./gtzan_genre/rock/36-krautrock.csv\n",
      "copy file from: ./track_by_genre/27-lo_fi.csv to: ./gtzan_genre/rock/27-lo_fi.csv\n",
      "copy file from: ./track_by_genre/45-loud_rock.csv to: ./gtzan_genre/rock/45-loud_rock.csv\n",
      "copy file from: ./track_by_genre/53-noise_rock.csv to: ./gtzan_genre/rock/53-noise_rock.csv\n",
      "copy file from: ./track_by_genre/90-sludge.csv to: ./gtzan_genre/rock/90-sludge.csv\n",
      "copy file from: ./track_by_genre/439-grindcore.csv to: ./gtzan_genre/rock/439-grindcore.csv\n",
      "copy file from: ./track_by_genre/88-new_wave.csv to: ./gtzan_genre/rock/88-new_wave.csv\n",
      "copy file from: ./track_by_genre/26-post_rock.csv to: ./gtzan_genre/rock/26-post_rock.csv\n",
      "copy file from: ./track_by_genre/98-progressive.csv to: ./gtzan_genre/rock/98-progressive.csv\n",
      "copy file from: ./track_by_genre/58-psych_rock.csv to: ./gtzan_genre/rock/58-psych_rock.csv\n",
      "copy file from: ./track_by_genre/64-electro_punk.csv to: ./gtzan_genre/rock/64-electro_punk.csv\n",
      "copy file from: ./track_by_genre/89-post_punk.csv to: ./gtzan_genre/rock/89-post_punk.csv\n",
      "copy file from: ./track_by_genre/25-punk.csv to: ./gtzan_genre/rock/25-punk.csv\n",
      "copy file from: ./track_by_genre/109-hardcore.csv to: ./gtzan_genre/rock/109-hardcore.csv\n",
      "copy file from: ./track_by_genre/361-thrash.csv to: ./gtzan_genre/rock/361-thrash.csv\n",
      "copy file from: ./track_by_genre/71-no_wave.csv to: ./gtzan_genre/rock/71-no_wave.csv\n",
      "copy file from: ./track_by_genre/111-power_pop.csv to: ./gtzan_genre/rock/111-power_pop.csv\n",
      "copy file from: ./track_by_genre/440-rock_opera.csv to: ./gtzan_genre/rock/440-rock_opera.csv\n",
      "copy file from: ./track_by_genre/359-shoegaze.csv to: ./gtzan_genre/rock/359-shoegaze.csv\n",
      "copy file from: ./track_by_genre/66-indie_rock.csv to: ./gtzan_genre/rock/66-indie_rock.csv\n"
     ]
    }
   ],
   "source": [
    "from shutil import copyfile\n",
    "SRC_PATH = './track_by_genre'\n",
    "for _, row in df.iterrows():\n",
    "#     name =  \n",
    "    src = f'{SRC_PATH}/{row[\"csv_name\"]}'\n",
    "    dst = f'{GTZAN_FOLDER}/{row[\"label\"]}/{row[\"csv_name\"]}'\n",
    "    copyfile(src, dst)\n",
    "    print('copy file', f'from: {src}', f'to: {dst}')"
   ]
  },
  {
   "cell_type": "code",
   "execution_count": 20,
   "metadata": {},
   "outputs": [
    {
     "name": "stdout",
     "output_type": "stream",
     "text": [
      "3-blues.csv\n",
      "567-gospel.csv\n",
      "5-classical.csv\n",
      "187-20th_century_classical.csv\n",
      "322-composed_music.csv\n",
      "441-opera.csv\n",
      "442-chamber_music.csv\n",
      "443-choral_music.csv\n",
      "444-symphony.csv\n",
      "659-contemporary_classical.csv\n",
      "9-country.csv\n",
      "63-bluegrass.csv\n",
      "137-americana.csv\n",
      "169-rockabilly.csv\n",
      "493-western_swing.csv\n",
      "651-country_and_western.csv\n",
      "11-disco.csv\n",
      "21-hip_hop.csv\n",
      "100-alternative_hip_hop.csv\n",
      "542-breakbeat.csv\n",
      "811-hip_hop_beats.csv\n",
      "83-nerdcore.csv\n",
      "539-rap.csv\n",
      "693-wonky.csv\n",
      "179-big_band_swing.csv\n",
      "37-jazz__vocal.csv\n",
      "4-jazz.csv\n",
      "74-free_jazz.csv\n",
      "810-nu_jazz.csv\n",
      "906-modern_jazz.csv\n",
      "97-jazz__out.csv\n",
      "31-metal.csv\n",
      "101-death_metal.csv\n",
      "167-black_metal.csv\n",
      "10-pop.csv\n",
      "362-synth_pop.csv\n",
      "76-experimental_pop.csv\n",
      "602-reggae___dancehall.csv\n",
      "79-reggae___dub.csv\n",
      "12-rock.csv\n",
      "113-space_rock.csv\n",
      "85-garage.csv\n",
      "404-surf.csv\n",
      "314-goth.csv\n",
      "70-industrial.csv\n",
      "36-krautrock.csv\n",
      "27-lo_fi.csv\n",
      "45-loud_rock.csv\n",
      "53-noise_rock.csv\n",
      "90-sludge.csv\n",
      "439-grindcore.csv\n",
      "88-new_wave.csv\n",
      "26-post_rock.csv\n",
      "98-progressive.csv\n",
      "58-psych_rock.csv\n",
      "64-electro_punk.csv\n",
      "89-post_punk.csv\n",
      "25-punk.csv\n",
      "109-hardcore.csv\n",
      "361-thrash.csv\n",
      "71-no_wave.csv\n",
      "111-power_pop.csv\n",
      "440-rock_opera.csv\n",
      "359-shoegaze.csv\n",
      "66-indie_rock.csv\n"
     ]
    },
    {
     "data": {
      "text/html": [
       "<div>\n",
       "<style scoped>\n",
       "    .dataframe tbody tr th:only-of-type {\n",
       "        vertical-align: middle;\n",
       "    }\n",
       "\n",
       "    .dataframe tbody tr th {\n",
       "        vertical-align: top;\n",
       "    }\n",
       "\n",
       "    .dataframe thead th {\n",
       "        text-align: right;\n",
       "    }\n",
       "</style>\n",
       "<table border=\"1\" class=\"dataframe\">\n",
       "  <thead>\n",
       "    <tr style=\"text-align: right;\">\n",
       "      <th></th>\n",
       "      <th>category</th>\n",
       "      <th>label</th>\n",
       "      <th>csv_name</th>\n",
       "      <th>file_path</th>\n",
       "    </tr>\n",
       "  </thead>\n",
       "  <tbody>\n",
       "    <tr>\n",
       "      <th>0</th>\n",
       "      <td>0</td>\n",
       "      <td>blues</td>\n",
       "      <td>3-blues.csv</td>\n",
       "      <td>../data/fma_large/000/000461.mp3,../data/fma_l...</td>\n",
       "    </tr>\n",
       "    <tr>\n",
       "      <th>1</th>\n",
       "      <td>0</td>\n",
       "      <td>blues</td>\n",
       "      <td>567-gospel.csv</td>\n",
       "      <td>../data/fma_large/028/028590.mp3,../data/fma_l...</td>\n",
       "    </tr>\n",
       "    <tr>\n",
       "      <th>2</th>\n",
       "      <td>1</td>\n",
       "      <td>classical</td>\n",
       "      <td>5-classical.csv</td>\n",
       "      <td>../data/fma_large/001/001865.mp3,../data/fma_l...</td>\n",
       "    </tr>\n",
       "    <tr>\n",
       "      <th>3</th>\n",
       "      <td>1</td>\n",
       "      <td>classical</td>\n",
       "      <td>187-20th_century_classical.csv</td>\n",
       "      <td>../data/fma_large/014/014649.mp3,../data/fma_l...</td>\n",
       "    </tr>\n",
       "    <tr>\n",
       "      <th>4</th>\n",
       "      <td>1</td>\n",
       "      <td>classical</td>\n",
       "      <td>322-composed_music.csv</td>\n",
       "      <td>../data/fma_large/009/009524.mp3,../data/fma_l...</td>\n",
       "    </tr>\n",
       "  </tbody>\n",
       "</table>\n",
       "</div>"
      ],
      "text/plain": [
       "   category      label                        csv_name  \\\n",
       "0         0      blues                     3-blues.csv   \n",
       "1         0      blues                  567-gospel.csv   \n",
       "2         1  classical                 5-classical.csv   \n",
       "3         1  classical  187-20th_century_classical.csv   \n",
       "4         1  classical          322-composed_music.csv   \n",
       "\n",
       "                                           file_path  \n",
       "0  ../data/fma_large/000/000461.mp3,../data/fma_l...  \n",
       "1  ../data/fma_large/028/028590.mp3,../data/fma_l...  \n",
       "2  ../data/fma_large/001/001865.mp3,../data/fma_l...  \n",
       "3  ../data/fma_large/014/014649.mp3,../data/fma_l...  \n",
       "4  ../data/fma_large/009/009524.mp3,../data/fma_l...  "
      ]
     },
     "execution_count": 20,
     "metadata": {},
     "output_type": "execute_result"
    }
   ],
   "source": [
    "filePath = []\n",
    "for name in df['csv_name']:\n",
    "    dfMusic = pd.read_csv(f'{TRACKS_FOLDER}/{name}')\n",
    "    filePath.append(','.join(dfMusic['path'].values.tolist()))   \n",
    "df['file_path'] = filePath\n",
    "df.head()"
   ]
  },
  {
   "cell_type": "code",
   "execution_count": 23,
   "metadata": {},
   "outputs": [],
   "source": [
    "newDfCols = {'category': [], 'label': [], 'csv_name': [], 'file_path': []}\n",
    "for _, row in df.iterrows():\n",
    "    filePath = row['file_path'].split(',')\n",
    "    len_ = len(filePath)\n",
    "    for j in filePath:\n",
    "        newDfCols['file_path'].append(j)\n",
    "    newDfCols['category'].extend([row['category']] * len_)\n",
    "    newDfCols['label'].extend([row['label']] * len_)\n",
    "    newDfCols['csv_name'].extend([row['csv_name']] * len_)\n",
    "dfNew = pd.DataFrame(data=newDfCols)\n",
    "dfNew.to_csv('./gtzan_fma_mapping_mp3.csv', index=False)"
   ]
  }
 ],
 "metadata": {
  "kernelspec": {
   "display_name": "Python 3",
   "language": "python",
   "name": "python3"
  },
  "language_info": {
   "codemirror_mode": {
    "name": "ipython",
    "version": 3
   },
   "file_extension": ".py",
   "mimetype": "text/x-python",
   "name": "python",
   "nbconvert_exporter": "python",
   "pygments_lexer": "ipython3",
   "version": "3.6.6"
  }
 },
 "nbformat": 4,
 "nbformat_minor": 2
}
